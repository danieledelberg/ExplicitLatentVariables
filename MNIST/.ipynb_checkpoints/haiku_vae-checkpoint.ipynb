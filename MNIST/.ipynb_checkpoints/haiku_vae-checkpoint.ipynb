{
 "cells": [
  {
   "cell_type": "markdown",
   "metadata": {
    "id": "ifzMixsXwMQQ"
   },
   "source": [
    "# Tutorial VAE"
   ]
  },
  {
   "cell_type": "code",
   "execution_count": 36,
   "metadata": {
    "colab": {
     "base_uri": "https://localhost:8080/"
    },
    "id": "ON-ZpVIga2DM",
    "outputId": "7e02cf00-9500-4b35-a07f-36bf69ea9332"
   },
   "outputs": [
    {
     "name": "stdout",
     "output_type": "stream",
     "text": [
      "Collecting git+https://github.com/deepmind/dm-haiku\n",
      "  Cloning https://github.com/deepmind/dm-haiku to /tmp/pip-req-build-377tepwt\n",
      "  Running command git clone -q https://github.com/deepmind/dm-haiku /tmp/pip-req-build-377tepwt\n",
      "  Resolved https://github.com/deepmind/dm-haiku to commit c87b80959ea6d4cd3e3fd7c07fe57ef4b83bed02\n",
      "Requirement already satisfied: absl-py>=0.7.1 in /gpfs/loomis/project/lederman/dge5/conda_envs/cryodrgn_rotations/lib/python3.7/site-packages (from dm-haiku==0.0.7.dev0) (1.0.0)\n",
      "Requirement already satisfied: jmp>=0.0.2 in /gpfs/loomis/project/lederman/dge5/conda_envs/cryodrgn_rotations/lib/python3.7/site-packages (from dm-haiku==0.0.7.dev0) (0.0.2)\n",
      "Requirement already satisfied: numpy>=1.18.0 in /gpfs/loomis/project/lederman/dge5/conda_envs/cryodrgn_rotations/lib/python3.7/site-packages (from dm-haiku==0.0.7.dev0) (1.21.5)\n",
      "Requirement already satisfied: tabulate>=0.8.9 in /gpfs/loomis/project/lederman/dge5/conda_envs/cryodrgn_rotations/lib/python3.7/site-packages (from dm-haiku==0.0.7.dev0) (0.8.9)\n",
      "Requirement already satisfied: typing_extensions in /gpfs/loomis/project/lederman/dge5/conda_envs/cryodrgn_rotations/lib/python3.7/site-packages (from dm-haiku==0.0.7.dev0) (3.10.0.2)\n",
      "Requirement already satisfied: six in /gpfs/loomis/project/lederman/dge5/conda_envs/cryodrgn_rotations/lib/python3.7/site-packages (from absl-py>=0.7.1->dm-haiku==0.0.7.dev0) (1.16.0)\n",
      "Requirement already satisfied: optax in /gpfs/loomis/project/lederman/dge5/conda_envs/cryodrgn_rotations/lib/python3.7/site-packages (0.1.2)\n",
      "Requirement already satisfied: chex>=0.0.4 in /gpfs/loomis/project/lederman/dge5/conda_envs/cryodrgn_rotations/lib/python3.7/site-packages (from optax) (0.1.3)\n",
      "Requirement already satisfied: jaxlib>=0.1.37 in /gpfs/loomis/project/lederman/dge5/conda_envs/cryodrgn_rotations/lib/python3.7/site-packages (from optax) (0.3.2)\n",
      "Requirement already satisfied: numpy>=1.18.0 in /gpfs/loomis/project/lederman/dge5/conda_envs/cryodrgn_rotations/lib/python3.7/site-packages (from optax) (1.21.5)\n",
      "Requirement already satisfied: absl-py>=0.7.1 in /gpfs/loomis/project/lederman/dge5/conda_envs/cryodrgn_rotations/lib/python3.7/site-packages (from optax) (1.0.0)\n",
      "Requirement already satisfied: typing-extensions>=3.10.0 in /gpfs/loomis/project/lederman/dge5/conda_envs/cryodrgn_rotations/lib/python3.7/site-packages (from optax) (3.10.0.2)\n",
      "Requirement already satisfied: jax>=0.1.55 in /gpfs/loomis/project/lederman/dge5/conda_envs/cryodrgn_rotations/lib/python3.7/site-packages (from optax) (0.3.6)\n",
      "Requirement already satisfied: six in /gpfs/loomis/project/lederman/dge5/conda_envs/cryodrgn_rotations/lib/python3.7/site-packages (from absl-py>=0.7.1->optax) (1.16.0)\n",
      "Requirement already satisfied: toolz>=0.9.0 in /gpfs/loomis/project/lederman/dge5/conda_envs/cryodrgn_rotations/lib/python3.7/site-packages (from chex>=0.0.4->optax) (0.11.2)\n",
      "Requirement already satisfied: dm-tree>=0.1.5 in /gpfs/loomis/project/lederman/dge5/conda_envs/cryodrgn_rotations/lib/python3.7/site-packages (from chex>=0.0.4->optax) (0.1.7)\n",
      "Requirement already satisfied: scipy>=1.2.1 in /gpfs/loomis/project/lederman/dge5/conda_envs/cryodrgn_rotations/lib/python3.7/site-packages (from jax>=0.1.55->optax) (1.5.3)\n",
      "Requirement already satisfied: opt-einsum in /gpfs/loomis/project/lederman/dge5/conda_envs/cryodrgn_rotations/lib/python3.7/site-packages (from jax>=0.1.55->optax) (3.3.0)\n",
      "Requirement already satisfied: flatbuffers<3.0,>=1.12 in /gpfs/loomis/project/lederman/dge5/conda_envs/cryodrgn_rotations/lib/python3.7/site-packages (from jaxlib>=0.1.37->optax) (1.12)\n",
      "Collecting tensorflow-datasets\n",
      "  Downloading tensorflow_datasets-4.6.0-py3-none-any.whl (4.3 MB)\n",
      "\u001b[K     |████████████████████████████████| 4.3 MB 9.5 MB/s eta 0:00:01\n",
      "\u001b[?25hRequirement already satisfied: absl-py in /gpfs/loomis/project/lederman/dge5/conda_envs/cryodrgn_rotations/lib/python3.7/site-packages (from tensorflow-datasets) (1.0.0)\n",
      "Requirement already satisfied: six in /gpfs/loomis/project/lederman/dge5/conda_envs/cryodrgn_rotations/lib/python3.7/site-packages (from tensorflow-datasets) (1.16.0)\n",
      "Collecting toml\n",
      "  Downloading toml-0.10.2-py2.py3-none-any.whl (16 kB)\n",
      "Collecting promise\n",
      "  Downloading promise-2.3.tar.gz (19 kB)\n",
      "Requirement already satisfied: protobuf>=3.12.2 in /gpfs/loomis/project/lederman/dge5/conda_envs/cryodrgn_rotations/lib/python3.7/site-packages (from tensorflow-datasets) (3.19.4)\n",
      "Collecting dill\n",
      "  Downloading dill-0.3.5.1-py2.py3-none-any.whl (95 kB)\n",
      "\u001b[K     |████████████████████████████████| 95 kB 2.7 MB/s  eta 0:00:01\n",
      "\u001b[?25hRequirement already satisfied: typing-extensions in /gpfs/loomis/project/lederman/dge5/conda_envs/cryodrgn_rotations/lib/python3.7/site-packages (from tensorflow-datasets) (3.10.0.2)\n",
      "Requirement already satisfied: tqdm in /gpfs/loomis/project/lederman/dge5/conda_envs/cryodrgn_rotations/lib/python3.7/site-packages (from tensorflow-datasets) (4.62.3)\n",
      "Requirement already satisfied: importlib-resources in /gpfs/loomis/project/lederman/dge5/conda_envs/cryodrgn_rotations/lib/python3.7/site-packages (from tensorflow-datasets) (5.4.0)\n",
      "Collecting tensorflow-metadata\n",
      "  Downloading tensorflow_metadata-1.8.0-py3-none-any.whl (50 kB)\n",
      "\u001b[K     |████████████████████████████████| 50 kB 3.2 MB/s  eta 0:00:01\n",
      "\u001b[?25hRequirement already satisfied: numpy in /gpfs/loomis/project/lederman/dge5/conda_envs/cryodrgn_rotations/lib/python3.7/site-packages (from tensorflow-datasets) (1.21.5)\n",
      "Requirement already satisfied: requests>=2.19.0 in /gpfs/loomis/project/lederman/dge5/conda_envs/cryodrgn_rotations/lib/python3.7/site-packages (from tensorflow-datasets) (2.27.1)\n",
      "Requirement already satisfied: termcolor in /gpfs/loomis/project/lederman/dge5/conda_envs/cryodrgn_rotations/lib/python3.7/site-packages (from tensorflow-datasets) (1.1.0)\n",
      "Collecting etils[epath]\n",
      "  Downloading etils-0.6.0-py3-none-any.whl (98 kB)\n",
      "\u001b[K     |████████████████████████████████| 98 kB 3.7 MB/s  eta 0:00:01\n",
      "\u001b[?25hRequirement already satisfied: idna<4,>=2.5 in /gpfs/loomis/project/lederman/dge5/conda_envs/cryodrgn_rotations/lib/python3.7/site-packages (from requests>=2.19.0->tensorflow-datasets) (3.3)\n",
      "Requirement already satisfied: urllib3<1.27,>=1.21.1 in /gpfs/loomis/project/lederman/dge5/conda_envs/cryodrgn_rotations/lib/python3.7/site-packages (from requests>=2.19.0->tensorflow-datasets) (1.26.8)\n",
      "Requirement already satisfied: certifi>=2017.4.17 in /gpfs/loomis/project/lederman/dge5/conda_envs/cryodrgn_rotations/lib/python3.7/site-packages (from requests>=2.19.0->tensorflow-datasets) (2022.5.18.1)\n",
      "Requirement already satisfied: charset-normalizer~=2.0.0 in /gpfs/loomis/project/lederman/dge5/conda_envs/cryodrgn_rotations/lib/python3.7/site-packages (from requests>=2.19.0->tensorflow-datasets) (2.0.12)\n",
      "Requirement already satisfied: zipp in /gpfs/loomis/project/lederman/dge5/conda_envs/cryodrgn_rotations/lib/python3.7/site-packages (from etils[epath]->tensorflow-datasets) (3.7.0)\n",
      "Collecting googleapis-common-protos<2,>=1.52.0\n",
      "  Downloading googleapis_common_protos-1.56.2-py2.py3-none-any.whl (211 kB)\n",
      "\u001b[K     |████████████████████████████████| 211 kB 84.8 MB/s eta 0:00:01\n",
      "\u001b[?25hBuilding wheels for collected packages: promise\n",
      "  Building wheel for promise (setup.py) ... \u001b[?25ldone\n",
      "\u001b[?25h  Created wheel for promise: filename=promise-2.3-py3-none-any.whl size=21503 sha256=59620b91e6d4e7331ae3b08080a11729b08dc1f3eb4422f5b8bb13bcc081fe12\n",
      "  Stored in directory: /vast/palmer/home.grace/dge5/.cache/pip/wheels/29/93/c6/762e359f8cb6a5b69c72235d798804cae523bbe41c2aa8333d\n",
      "Successfully built promise\n",
      "Installing collected packages: etils, googleapis-common-protos, toml, tensorflow-metadata, promise, dill, tensorflow-datasets\n",
      "Successfully installed dill-0.3.5.1 etils-0.6.0 googleapis-common-protos-1.56.2 promise-2.3 tensorflow-datasets-4.6.0 tensorflow-metadata-1.8.0 toml-0.10.2\n"
     ]
    }
   ],
   "source": [
    "# Copyright 2020 DeepMind Technologies Limited. All Rights Reserved.\n",
    "#\n",
    "# Licensed under the Apache License, Version 2.0 (the \"License\");\n",
    "# you may not use this file except in compliance with the License.\n",
    "# You may obtain a copy of the License at\n",
    "#\n",
    "#     http://www.apache.org/licenses/LICENSE-2.0\n",
    "#\n",
    "# Unless required by applicable law or agreed to in writing, software\n",
    "# distributed under the License is distributed on an \"AS IS\" BASIS,\n",
    "# WITHOUT WARRANTIES OR CONDITIONS OF ANY KIND, either express or implied.\n",
    "# See the License for the specific language governing permissions and\n",
    "# limitations under the License.\n",
    "# ==============================================================================\n",
    "\n",
    "!pip install git+https://github.com/deepmind/dm-haiku\n",
    "!pip install optax\n",
    "!pip install tensorflow-datasets"
   ]
  },
  {
   "cell_type": "code",
   "execution_count": null,
   "metadata": {
    "id": "w6iDEx_Ldx2Z"
   },
   "outputs": [],
   "source": [
    "\"\"\"Variational Autoencoder example on binarized MNIST dataset.\"\"\"\n",
    "\n",
    "from typing import Iterator, Mapping, Tuple, NamedTuple, Sequence\n",
    "\n",
    "from absl import app\n",
    "from absl import flags\n",
    "from absl import logging\n",
    "import haiku as hk\n",
    "import jax\n",
    "import jax.numpy as jnp\n",
    "import numpy as np\n",
    "import optax\n",
    "import tensorflow_datasets as tfds\n",
    "import matplotlib.pyplot as plt"
   ]
  },
  {
   "cell_type": "markdown",
   "metadata": {
    "id": "_vcCqKiUgsiI"
   },
   "source": [
    "Global Training Parameters"
   ]
  },
  {
   "cell_type": "code",
   "execution_count": null,
   "metadata": {
    "id": "0D4J_WwkeDzT"
   },
   "outputs": [],
   "source": [
    "batch_size = 128\n",
    "learning_rate = 0.001\n",
    "training_steps = 5000\n",
    "eval_frequency = 100\n",
    "random_seed = 42\n",
    "\n",
    "PRNGKey = jnp.ndarray\n",
    "Batch = Mapping[str, np.ndarray]\n",
    "\n",
    "MNIST_IMAGE_SHAPE: Sequence[int] = (28, 28, 1)"
   ]
  },
  {
   "cell_type": "markdown",
   "metadata": {
    "id": "JiNgfQIxgvle"
   },
   "source": [
    "Loading Dataset"
   ]
  },
  {
   "cell_type": "code",
   "execution_count": null,
   "metadata": {
    "id": "iflhTRfOgLHu"
   },
   "outputs": [],
   "source": [
    "def load_dataset(split: str, batch_size: int) -> Iterator[Batch]:\n",
    "  ds = tfds.load(\"binarized_mnist\", split=split, shuffle_files=True,\n",
    "                 read_config=tfds.ReadConfig(shuffle_seed=random_seed))\n",
    "  ds = ds.shuffle(buffer_size=10 * batch_size, seed=random_seed)\n",
    "  ds = ds.batch(batch_size)\n",
    "  ds = ds.prefetch(buffer_size=5)\n",
    "  ds = ds.repeat()\n",
    "  return iter(tfds.as_numpy(ds))"
   ]
  },
  {
   "cell_type": "markdown",
   "metadata": {
    "id": "fouHvbAQgxRu"
   },
   "source": [
    "VAE"
   ]
  },
  {
   "cell_type": "code",
   "execution_count": null,
   "metadata": {
    "id": "3WTvqhMwgWMp"
   },
   "outputs": [],
   "source": [
    "class Encoder(hk.Module):\n",
    "  \"\"\"Encoder model.\"\"\"\n",
    "\n",
    "  def __init__(self, hidden_size: int = 512, latent_size: int = 10):\n",
    "    super().__init__()\n",
    "    self._hidden_size = hidden_size\n",
    "    self._latent_size = latent_size\n",
    "\n",
    "  def __call__(self, x: jnp.ndarray) -> Tuple[jnp.ndarray, jnp.ndarray]:\n",
    "    x = hk.Flatten()(x)\n",
    "    x = hk.Linear(self._hidden_size)(x)\n",
    "    x = jax.nn.relu(x)\n",
    "\n",
    "    mean = hk.Linear(self._latent_size)(x)\n",
    "    log_stddev = hk.Linear(self._latent_size)(x)\n",
    "    stddev = jnp.exp(log_stddev)\n",
    "\n",
    "    return mean, stddev\n",
    "\n",
    "\n",
    "class Decoder(hk.Module):\n",
    "  \"\"\"Decoder model.\"\"\"\n",
    "\n",
    "  def __init__(\n",
    "      self,\n",
    "      hidden_size: int = 512,\n",
    "      output_shape: Sequence[int] = MNIST_IMAGE_SHAPE,\n",
    "  ):\n",
    "    super().__init__()\n",
    "    self._hidden_size = hidden_size\n",
    "    self._output_shape = output_shape\n",
    "\n",
    "  def __call__(self, z: jnp.ndarray) -> jnp.ndarray:\n",
    "    z = hk.Linear(self._hidden_size)(z)\n",
    "    z = jax.nn.relu(z)\n",
    "\n",
    "    logits = hk.Linear(np.prod(self._output_shape))(z)\n",
    "    logits = jnp.reshape(logits, (-1, *self._output_shape))\n",
    "\n",
    "    return logits\n",
    "\n",
    "\n",
    "class VAEOutput(NamedTuple):\n",
    "  image: jnp.ndarray\n",
    "  mean: jnp.ndarray\n",
    "  stddev: jnp.ndarray\n",
    "  logits: jnp.ndarray\n",
    "\n",
    "\n",
    "class VariationalAutoEncoder(hk.Module):\n",
    "  \"\"\"Main VAE model class, uses Encoder & Decoder under the hood.\"\"\"\n",
    "\n",
    "  def __init__(\n",
    "      self,\n",
    "      hidden_size: int = 512,\n",
    "      latent_size: int = 10,\n",
    "      output_shape: Sequence[int] = (28, 28, 1)\n",
    "  ):\n",
    "    super().__init__()\n",
    "    self._hidden_size = hidden_size\n",
    "    self._latent_size = latent_size\n",
    "    self._output_shape = output_shape\n",
    "\n",
    "  def __call__(self, x: jnp.ndarray) -> VAEOutput:\n",
    "    x = x.astype(jnp.float32)\n",
    "    mean, stddev = Encoder(self._hidden_size, self._latent_size)(x)\n",
    "    #print(mean.shape)\n",
    "    #print(mean)\n",
    "    z = mean + stddev * jax.random.normal(hk.next_rng_key(), mean.shape)\n",
    "    logits = Decoder(self._hidden_size, self._output_shape)(z)\n",
    "\n",
    "    p = jax.nn.sigmoid(logits)\n",
    "    image = jax.random.bernoulli(hk.next_rng_key(), p)\n",
    "\n",
    "    return VAEOutput(image, mean, stddev, logits)"
   ]
  },
  {
   "cell_type": "markdown",
   "metadata": {
    "id": "6HTV2KJCg1XA"
   },
   "source": [
    "Loss functions"
   ]
  },
  {
   "cell_type": "code",
   "execution_count": null,
   "metadata": {
    "id": "6fVJbQOdgaV_"
   },
   "outputs": [],
   "source": [
    "def binary_cross_entropy(x: jnp.ndarray, logits: jnp.ndarray) -> jnp.ndarray:\n",
    "  \"\"\"Calculate binary (logistic) cross-entropy from distribution logits.\n",
    "\n",
    "  Args:\n",
    "    x: input variable tensor, must be of same shape as logits\n",
    "    logits: log odds of a Bernoulli distribution, i.e. log(p/(1-p))\n",
    "\n",
    "  Returns:\n",
    "    A scalar representing binary CE for the given Bernoulli distribution.\n",
    "  \"\"\"\n",
    "  print(x.shape)\n",
    "  if x.shape != logits.shape:\n",
    "    raise ValueError(\"inputs x and logits must be of the same shape\")\n",
    "\n",
    "  x = jnp.reshape(x, (x.shape[0], -1))\n",
    "  logits = jnp.reshape(logits, (logits.shape[0], -1))\n",
    "\n",
    "  return -jnp.sum(x * logits - jnp.logaddexp(0.0, logits), axis=-1)\n",
    "\n",
    "\n",
    "def kl_gaussian(mean: jnp.ndarray, var: jnp.ndarray) -> jnp.ndarray:\n",
    "  r\"\"\"Calculate KL divergence between given and standard gaussian distributions.\n",
    "\n",
    "  KL(p, q) = H(p, q) - H(p) = -\\int p(x)log(q(x))dx - -\\int p(x)log(p(x))dx\n",
    "           = 0.5 * [log(|s2|/|s1|) - 1 + tr(s1/s2) + (m1-m2)^2/s2]\n",
    "           = 0.5 * [-log(|s1|) - 1 + tr(s1) + m1^2] (if m2 = 0, s2 = 1)\n",
    "\n",
    "  Args:\n",
    "    mean: mean vector of the first distribution\n",
    "    var: diagonal vector of covariance matrix of the first distribution\n",
    "\n",
    "  Returns:\n",
    "    A scalar representing KL divergence of the two Gaussian distributions.\n",
    "  \"\"\"\n",
    "  return 0.5 * jnp.sum(-jnp.log(var) - 1.0 + var + jnp.square(mean), axis=-1)"
   ]
  },
  {
   "cell_type": "markdown",
   "metadata": {
    "id": "-bp6Gz7Ig4As"
   },
   "source": [
    "Training/Testing"
   ]
  },
  {
   "cell_type": "code",
   "execution_count": null,
   "metadata": {
    "colab": {
     "base_uri": "https://localhost:8080/",
     "height": 496
    },
    "id": "yrHePzHUdsnS",
    "outputId": "ffc08467-7091-450d-ff75-01f7801349ea"
   },
   "outputs": [],
   "source": [
    "model = hk.transform(lambda x: VariationalAutoEncoder()(x))  # pylint: disable=unnecessary-lambda\n",
    "optimizer = optax.adam(learning_rate)\n",
    "\n",
    "@jax.jit\n",
    "def loss_fn(params: hk.Params, rng_key: PRNGKey, batch: Batch) -> jnp.ndarray:\n",
    "    \"\"\"ELBO loss: E_p[log(x)] - KL(d||q), where p ~ Be(0.5) and q ~ N(0,1).\"\"\"\n",
    "    outputs: VAEOutput = model.apply(params, rng_key, batch[\"image\"])\n",
    "    #print(outputs.logits.shape)\n",
    "    log_likelihood = -binary_cross_entropy(batch[\"image\"], outputs.logits)\n",
    "    kl = kl_gaussian(outputs.mean, jnp.square(outputs.stddev))\n",
    "    elbo = log_likelihood - kl\n",
    "\n",
    "    return -jnp.mean(elbo)\n",
    "\n",
    "@jax.jit\n",
    "def update(\n",
    "    params: hk.Params,\n",
    "    rng_key: PRNGKey,\n",
    "    opt_state: optax.OptState,\n",
    "    batch: Batch,\n",
    "  ) -> Tuple[hk.Params, optax.OptState]:\n",
    "    \"\"\"Single SGD update step.\"\"\"\n",
    "    grads = jax.grad(loss_fn)(params, rng_key, batch)\n",
    "    updates, new_opt_state = optimizer.update(grads, opt_state)\n",
    "    new_params = optax.apply_updates(params, updates)\n",
    "    return new_params, new_opt_state\n",
    "\n",
    "rng_seq = hk.PRNGSequence(random_seed)\n",
    "params = model.init(next(rng_seq), np.zeros((1, *MNIST_IMAGE_SHAPE)))\n",
    "#print(params)\n",
    "opt_state = optimizer.init(params)\n",
    "\n",
    "train_ds = load_dataset(tfds.Split.TRAIN, batch_size)\n",
    "valid_ds = load_dataset(tfds.Split.TEST, batch_size)\n",
    "\n",
    "val_loss_lst = []\n",
    "\n",
    "for step in range(training_steps):\n",
    "    params, opt_state = update(params, next(rng_seq), opt_state, next(train_ds))\n",
    "\n",
    "    if step % eval_frequency == 0:\n",
    "        val_loss = loss_fn(params, next(rng_seq), next(valid_ds))\n",
    "        print(\"STEP: %5d; Validation ELBO: %.3f\" % (step, -val_loss))\n",
    "        val_loss_lst.append(val_loss)"
   ]
  },
  {
   "cell_type": "code",
   "execution_count": null,
   "metadata": {
    "colab": {
     "base_uri": "https://localhost:8080/",
     "height": 265
    },
    "id": "2wgvNmJIqGH1",
    "outputId": "67665245-19d8-45ac-a5ed-598da609d6b0"
   },
   "outputs": [],
   "source": [
    "plt.plot(val_loss_lst)\n",
    "plt.show()"
   ]
  },
  {
   "cell_type": "code",
   "execution_count": null,
   "metadata": {
    "colab": {
     "base_uri": "https://localhost:8080/",
     "height": 265
    },
    "id": "CyQKAyAorogW",
    "outputId": "08fd1f7f-484a-4d35-81cf-8e5aaa03d8f1"
   },
   "outputs": [],
   "source": [
    "batch = next(valid_ds)\n",
    "output = model.apply(params, next(rng_seq), batch[\"image\"])\n",
    "plt.imshow(batch['image'][0].reshape(28, 28))\n",
    "plt.show()"
   ]
  },
  {
   "cell_type": "code",
   "execution_count": null,
   "metadata": {
    "colab": {
     "base_uri": "https://localhost:8080/",
     "height": 269
    },
    "id": "FyQAv6T2r3Hd",
    "outputId": "008b0e47-6a3a-4572-b0e4-be2496495411"
   },
   "outputs": [
    {
     "data": {
      "image/png": "[encoded data removed]",
      "text/plain": [
       "<Figure size 432x288 with 2 Axes>"
      ]
     },
     "metadata": {
      "needs_background": "light"
     },
     "output_type": "display_data"
    }
   ],
   "source": [
    "plt.imshow(output.logits[0].reshape(28,28))\n",
    "plt.colorbar()\n",
    "plt.show()"
   ]
  },
  {
   "cell_type": "code",
   "execution_count": null,
   "metadata": {
    "colab": {
     "base_uri": "https://localhost:8080/",
     "height": 269
    },
    "id": "i3YHMzsvr68X",
    "outputId": "5fb51db7-0ac3-4d97-b423-1625ced2c168"
   },
   "outputs": [
    {
     "data": {
      "image/png": "[encoded data removed]",
      "text/plain": [
       "<Figure size 432x288 with 2 Axes>"
      ]
     },
     "metadata": {
      "needs_background": "light"
     },
     "output_type": "display_data"
    }
   ],
   "source": [
    "plt.imshow(output.image[0].reshape(28,28))\n",
    "plt.colorbar()\n",
    "plt.show()"
   ]
  },
  {
   "cell_type": "markdown",
   "metadata": {
    "id": "tRmXHAMXwig4"
   },
   "source": [
    "# Embedding Layer"
   ]
  },
  {
   "cell_type": "code",
   "execution_count": 1,
   "metadata": {
    "id": "fPAP1OMJCwwq"
   },
   "outputs": [],
   "source": [
    "import torch\n",
    "import torch.nn as nn\n",
    "import torch.nn.functional as F\n",
    "import numpy as np\n",
    "import pickle\n",
    "from torch.utils.data import Dataset, DataLoader\n",
    "from torchvision import datasets, transforms\n",
    "\n",
    "import matplotlib.pyplot as plt"
   ]
  },
  {
   "cell_type": "code",
   "execution_count": 4,
   "metadata": {
    "colab": {
     "base_uri": "https://localhost:8080/"
    },
    "id": "tt0IdGoDCzGx",
    "outputId": "10050d07-6ceb-4000-aac2-aba46ed4dce7"
   },
   "outputs": [
    {
     "name": "stdout",
     "output_type": "stream",
     "text": [
      "cuda\n",
      "no_beta\n"
     ]
    }
   ],
   "source": [
    "use_cuda = torch.cuda.is_available()\n",
    "device = torch.device('cuda' if use_cuda else 'cpu')\n",
    "print(device)\n",
    "out_dir = 'no_beta'\n",
    "print(out_dir)\n",
    "batch_size = 128\n",
    "learning_rate = 0.01\n",
    "random_seed = 42\n",
    "zdim = 2"
   ]
  },
  {
   "cell_type": "markdown",
   "metadata": {
    "id": "AhYNQGwObSAU"
   },
   "source": [
    "Datasets"
   ]
  },
  {
   "cell_type": "code",
   "execution_count": 5,
   "metadata": {
    "colab": {
     "base_uri": "https://localhost:8080/"
    },
    "id": "YyINF-vm8R2e",
    "outputId": "05ac2ed6-76fb-4019-a67b-7796f3602cd5"
   },
   "outputs": [
    {
     "name": "stdout",
     "output_type": "stream",
     "text": [
      "469\n",
      "79\n"
     ]
    }
   ],
   "source": [
    "class TrainMNIST(Dataset):\n",
    "    def __init__(self):\n",
    "        self.mnist = datasets.MNIST(root='./mnist_data',\n",
    "                                        download=True,\n",
    "                                        train=True,\n",
    "                                        transform=transforms.ToTensor())\n",
    "        \n",
    "    def __getitem__(self, index):\n",
    "        data, label = self.mnist[index]  \n",
    "        return data.flatten(), label, index\n",
    "\n",
    "    def __len__(self):\n",
    "        return len(self.mnist)\n",
    "\n",
    "class TestMNIST(Dataset):\n",
    "    def __init__(self):\n",
    "        self.mnist = datasets.MNIST(root='./mnist_data',\n",
    "                                        download=True,\n",
    "                                        train=False,\n",
    "                                        transform=transforms.ToTensor())\n",
    "        \n",
    "    def __getitem__(self, index):\n",
    "        data, _ = self.mnist[index]  \n",
    "        return data.flatten(), index\n",
    "\n",
    "    def __len__(self):\n",
    "        return len(self.mnist)\n",
    "\n",
    "\n",
    "train_dataset = TrainMNIST()\n",
    "test_dataset = TestMNIST()\n",
    "train_loader = DataLoader(train_dataset, batch_size=batch_size, shuffle=True)\n",
    "test_loader = DataLoader(test_dataset, batch_size=batch_size, shuffle=False)\n",
    "\n",
    "print(len(train_loader))\n",
    "print(len(test_loader))\n",
    "\n",
    "#for batch_idx, (data, idx) in enumerate(train_loader):\n",
    "#    print(data.shape)\n",
    "#    print(idx)\n",
    "#    break\n",
    "\n",
    "#for data, i in loader:\n",
    "#    break"
   ]
  },
  {
   "cell_type": "markdown",
   "metadata": {
    "id": "ZPUy7DSzbVXJ"
   },
   "source": [
    "VAE and Z Table"
   ]
  },
  {
   "cell_type": "code",
   "execution_count": 6,
   "metadata": {
    "id": "OoLyBfDPZm1D"
   },
   "outputs": [],
   "source": [
    "class VAE(nn.Module):\n",
    "    def __init__(self, zdim, out_dim, hdim):\n",
    "        super(VAE, self).__init__()\n",
    "        \n",
    "        self.hdim = hdim \n",
    "        \n",
    "        self.fc1 = nn.Linear(zdim, hdim)\n",
    "        self.fc2 = nn.Linear(hdim, hdim)\n",
    "        self.fc3 = nn.Linear(hdim, out_dim)\n",
    "        self.fc0 = nn.Linear(hdim, hdim)\n",
    "        \n",
    "    #def encoder(self, x):\n",
    "    #    h = F.relu(self.fc1(x))\n",
    "    #    h = F.relu(self.fc2(h))\n",
    "    #    return self.fc31(h), self.fc32(h) # mu, log_var\n",
    "    \n",
    "    #def sampling(self, mu, log_var):\n",
    "    #    std = torch.exp(0.5*log_var)\n",
    "    #    eps = torch.randn_like(std)\n",
    "    #    return eps.mul(std).add_(mu) # return z sample\n",
    "        \n",
    "    def decoder(self, z):\n",
    "        h = F.relu(self.fc1(z))\n",
    "        h = F.relu(self.fc2(h))\n",
    "        h = F.relu(self.fc0(h))\n",
    "        return torch.sigmoid(self.fc3(h)) # sigmoid, so we do not use logits\n",
    "    \n",
    "    def forward(self, z):\n",
    "        #mu, log_var = self.encoder(x.view(-1, 784))\n",
    "        #z = self.sampling(mu, log_var)\n",
    "        return self.decoder(z)#, mu, log_var"
   ]
  },
  {
   "cell_type": "code",
   "execution_count": 7,
   "metadata": {
    "id": "LnJUO3EbZrBK"
   },
   "outputs": [],
   "source": [
    "class ZTracker(nn.Module):\n",
    "    def __init__(self, zmu, zvar):\n",
    "        super(ZTracker, self).__init__()\n",
    "        self.zmu = zmu\n",
    "        self.zvar = zvar\n",
    "        # zvals shape: N x Zdim for each\n",
    "        \n",
    "        zmu_embed = nn.Embedding(zmu.shape[0], zmu.shape[1], sparse=True)\n",
    "        zmu_embed.weight.data.copy_(zmu)\n",
    "        zvar_embed = nn.Embedding(zvar.shape[0], zvar.shape[1], sparse=True)\n",
    "        zvar_embed.weight.data.copy_(zvar)\n",
    "        \n",
    "        self.zmu_embed = zmu_embed\n",
    "        self.zvar_embed = zvar_embed\n",
    "        \n",
    "    def get_zval(self, ind):\n",
    "        zmu_val = self.zmu_embed(ind)\n",
    "        zvar_val = self.zvar_embed(ind)\n",
    "        return zmu_val, zvar_val\n",
    "    \n",
    "    def save(self, out_pkl):\n",
    "        output_zmu = self.zmu_embed.weight.data.cpu().numpy()\n",
    "        output_zvar = self.zvar_embed.weight.data.cpu().numpy()\n",
    "        outputs = (output_zmu, output_zvar)\n",
    "        pickle.dump(outputs, open(out_pkl, 'wb'))"
   ]
  },
  {
   "cell_type": "markdown",
   "metadata": {
    "id": "1_cfSiHIdC5W"
   },
   "source": [
    "Train Batch and Loss Function"
   ]
  },
  {
   "cell_type": "code",
   "execution_count": 8,
   "metadata": {
    "id": "G_2KNVpldCtN"
   },
   "outputs": [],
   "source": [
    "def train_batch(model, y, zmu, zvar, optim, zoptim, beta):\n",
    "\n",
    "    optim.zero_grad()\n",
    "    zoptim.zero_grad()\n",
    "    model.train()\n",
    "\n",
    "    z_mu, z_logvar, z, y_recon = run_batch(model, y, zmu, zvar)\n",
    "    loss, gen_loss, kld = loss_function(z_mu, z_logvar, y, y_recon, beta)\n",
    "\n",
    "    loss.backward()\n",
    "    optim.step()\n",
    "    zoptim.step()\n",
    "\n",
    "    return loss.item(), gen_loss.item(), kld.item()\n",
    "\n",
    "\n",
    "def run_batch(model, y, zmu, zvar):\n",
    "\n",
    "    B = y.size(0)\n",
    "    z_mu, z_logvar = zmu, zvar\n",
    "    std = torch.exp(0.5 * z_logvar)\n",
    "    eps = torch.randn_like(std)\n",
    "    z = z_mu + eps * std\n",
    "\n",
    "    y_recon = model(z).view(B, -1)\n",
    "\n",
    "    return z_mu, z_logvar, z, y_recon\n",
    "\n",
    "\n",
    "def loss_function(z_mu, z_logvar, y, y_recon, beta):\n",
    "    B = y.size(0)\n",
    "    # use without logits because we do force outputs with sigmoids\n",
    "    gen_loss = F.binary_cross_entropy(y_recon, y.view(B, -1), reduction='sum')\n",
    "    # KLD vs. N(0,1) distribution\n",
    "    kld = -0.5 * torch.sum(1 + z_logvar - z_mu.pow(2) - z_logvar.exp())\n",
    "    loss = gen_loss + beta * kld\n",
    "\n",
    "    return loss, gen_loss, kld"
   ]
  },
  {
   "cell_type": "markdown",
   "metadata": {
    "id": "Czj2yAKTbaFX"
   },
   "source": [
    "Z Setup"
   ]
  },
  {
   "cell_type": "code",
   "execution_count": 9,
   "metadata": {
    "colab": {
     "base_uri": "https://localhost:8080/"
    },
    "id": "8ttK5F01bnJh",
    "outputId": "1bf1121b-463d-480c-fd09-0b3ff9595f00"
   },
   "outputs": [
    {
     "name": "stdout",
     "output_type": "stream",
     "text": [
      "Using zero initialization.\n",
      "Mean:  0.0\n",
      "Logvar:  -8.0\n"
     ]
    }
   ],
   "source": [
    "print('Using zero initialization.')\n",
    "z_mean_input = np.zeros((len(train_dataset), zdim))\n",
    "z_logvar_input = np.ones((len(train_dataset), zdim)) * (-8)\n",
    "print('Mean: ', np.mean(z_mean_input))\n",
    "print('Logvar: ', np.mean(z_logvar_input))\n",
    "\n",
    "            \n",
    "zmu_input = torch.tensor(z_mean_input, requires_grad=True)\n",
    "zvar_input = torch.tensor(z_logvar_input, requires_grad=True)\n",
    "\n",
    "zmu_input.to(device)\n",
    "zvar_input.to(device)\n",
    "\n",
    "ztracker = ZTracker(zmu_input, zvar_input).to(device)\n",
    "zlearningrate = 0.01\n",
    "z_optimizer = torch.optim.SparseAdam(list(ztracker.parameters()), lr=zlearningrate)\n",
    "\n",
    "first_value = zmu_input[0].cpu().detach().numpy()"
   ]
  },
  {
   "cell_type": "markdown",
   "metadata": {
    "id": "Wtj0yqwKboXw"
   },
   "source": [
    "Training"
   ]
  },
  {
   "cell_type": "code",
   "execution_count": 10,
   "metadata": {
    "colab": {
     "base_uri": "https://localhost:8080/"
    },
    "id": "KEtRaftXwsj2",
    "outputId": "858d7e1e-af39-4054-c3bc-f8a46ca54ec4"
   },
   "outputs": [
    {
     "name": "stdout",
     "output_type": "stream",
     "text": [
      "Epoch: 1 Average gen loss = 26733.7, KLD = 895.684552, total loss = 26733.688667\n",
      "Epoch: 2 Average gen loss = 26419.6, KLD = 895.710793, total loss = 26419.552821\n",
      "Epoch: 3 Average gen loss = 25541.9, KLD = 895.940001, total loss = 25541.877554\n",
      "Epoch: 4 Average gen loss = 24946.3, KLD = 896.644958, total loss = 24946.313821\n",
      "Epoch: 5 Average gen loss = 24581.2, KLD = 897.832221, total loss = 24581.151433\n",
      "Epoch: 6 Average gen loss = 24264.0, KLD = 899.377288, total loss = 24264.040727\n",
      "Epoch: 7 Average gen loss = 23973.6, KLD = 901.182424, total loss = 23973.603742\n",
      "Epoch: 8 Average gen loss = 23671.2, KLD = 903.160590, total loss = 23671.186300\n",
      "Epoch: 9 Average gen loss = 23384.7, KLD = 905.292268, total loss = 23384.676454\n",
      "Epoch: 10 Average gen loss = 23139.6, KLD = 907.553301, total loss = 23139.564510\n",
      "Epoch: 11 Average gen loss = 22888.6, KLD = 909.938081, total loss = 22888.639646\n",
      "Epoch: 12 Average gen loss = 22630.0, KLD = 912.438693, total loss = 22629.970150\n",
      "Epoch: 13 Average gen loss = 22328.2, KLD = 915.026764, total loss = 22328.163252\n",
      "Epoch: 14 Average gen loss = 21995.7, KLD = 917.701838, total loss = 21995.720179\n",
      "Epoch: 15 Average gen loss = 21685.4, KLD = 920.459483, total loss = 21685.438659\n",
      "Epoch: 16 Average gen loss = 21384.0, KLD = 923.287286, total loss = 21384.023138\n",
      "Epoch: 17 Average gen loss = 21135.5, KLD = 926.179123, total loss = 21135.457898\n",
      "Epoch: 18 Average gen loss = 20928.0, KLD = 929.108541, total loss = 20927.952173\n",
      "Epoch: 19 Average gen loss = 20743.3, KLD = 932.054680, total loss = 20743.296040\n",
      "Epoch: 20 Average gen loss = 20575.6, KLD = 935.004879, total loss = 20575.565251\n",
      "Epoch: 21 Average gen loss = 20403.1, KLD = 937.939636, total loss = 20403.077978\n",
      "Epoch: 22 Average gen loss = 20254.3, KLD = 940.856149, total loss = 20254.273697\n",
      "Epoch: 23 Average gen loss = 20106.2, KLD = 943.745961, total loss = 20106.157164\n",
      "Epoch: 24 Average gen loss = 19968.6, KLD = 946.604976, total loss = 19968.620515\n",
      "Epoch: 25 Average gen loss = 19847.5, KLD = 949.427068, total loss = 19847.458293\n",
      "Epoch: 26 Average gen loss = 19740.7, KLD = 952.206314, total loss = 19740.669294\n",
      "Epoch: 27 Average gen loss = 19640.0, KLD = 954.942222, total loss = 19640.007843\n",
      "Epoch: 28 Average gen loss = 19533.5, KLD = 957.638678, total loss = 19533.493438\n",
      "Epoch: 29 Average gen loss = 19442.7, KLD = 960.285332, total loss = 19442.726871\n",
      "Epoch: 30 Average gen loss = 19352.3, KLD = 962.885444, total loss = 19352.339165\n",
      "Epoch: 31 Average gen loss = 19274.0, KLD = 965.437157, total loss = 19273.964715\n",
      "Epoch: 32 Average gen loss = 19189.6, KLD = 967.939874, total loss = 19189.564738\n",
      "Epoch: 33 Average gen loss = 19120.3, KLD = 970.397853, total loss = 19120.253477\n",
      "Epoch: 34 Average gen loss = 19046.5, KLD = 972.808991, total loss = 19046.525487\n",
      "Epoch: 35 Average gen loss = 18983.4, KLD = 975.179878, total loss = 18983.350310\n",
      "Epoch: 36 Average gen loss = 18910.9, KLD = 977.500728, total loss = 18910.874473\n",
      "Epoch: 37 Average gen loss = 18855.4, KLD = 979.777720, total loss = 18855.427916\n",
      "Epoch: 38 Average gen loss = 18792.1, KLD = 982.010429, total loss = 18792.076202\n",
      "Epoch: 39 Average gen loss = 18740.0, KLD = 984.202073, total loss = 18740.044214\n",
      "Epoch: 40 Average gen loss = 18689.2, KLD = 986.355212, total loss = 18689.166690\n",
      "Epoch: 41 Average gen loss = 18647.1, KLD = 988.466400, total loss = 18647.084431\n",
      "Epoch: 42 Average gen loss = 18600.5, KLD = 990.535449, total loss = 18600.539773\n",
      "Epoch: 43 Average gen loss = 18568.2, KLD = 992.567670, total loss = 18568.225203\n",
      "Epoch: 44 Average gen loss = 18529.9, KLD = 994.560059, total loss = 18529.919208\n",
      "Epoch: 45 Average gen loss = 18495.2, KLD = 996.521618, total loss = 18495.229819\n",
      "Epoch: 46 Average gen loss = 18466.4, KLD = 998.448404, total loss = 18466.422968\n",
      "Epoch: 47 Average gen loss = 18424.5, KLD = 1000.340177, total loss = 18424.489948\n",
      "Epoch: 48 Average gen loss = 18396.3, KLD = 1002.203643, total loss = 18396.271100\n",
      "Epoch: 49 Average gen loss = 18377.2, KLD = 1004.038488, total loss = 18377.198509\n",
      "Epoch: 50 Average gen loss = 18339.4, KLD = 1005.836153, total loss = 18339.396818\n",
      "Epoch: 51 Average gen loss = 18321.6, KLD = 1007.608157, total loss = 18321.610982\n",
      "Epoch: 52 Average gen loss = 18282.9, KLD = 1009.356343, total loss = 18282.947049\n",
      "Epoch: 53 Average gen loss = 18268.5, KLD = 1011.075820, total loss = 18268.532250\n",
      "Epoch: 54 Average gen loss = 18250.9, KLD = 1012.766724, total loss = 18250.887304\n",
      "Epoch: 55 Average gen loss = 18224.9, KLD = 1014.428358, total loss = 18224.927790\n",
      "Epoch: 56 Average gen loss = 18195.9, KLD = 1016.066622, total loss = 18195.864402\n",
      "Epoch: 57 Average gen loss = 18178.1, KLD = 1017.676309, total loss = 18178.137536\n",
      "Epoch: 58 Average gen loss = 18165.0, KLD = 1019.263562, total loss = 18164.983852\n",
      "Epoch: 59 Average gen loss = 18149.4, KLD = 1020.826362, total loss = 18149.410614\n",
      "Epoch: 60 Average gen loss = 18115.6, KLD = 1022.361027, total loss = 18115.615725\n",
      "Epoch: 61 Average gen loss = 18108.8, KLD = 1023.875859, total loss = 18108.764980\n",
      "Epoch: 62 Average gen loss = 18081.0, KLD = 1025.368330, total loss = 18080.996629\n",
      "Epoch: 63 Average gen loss = 18074.2, KLD = 1026.838690, total loss = 18074.162273\n",
      "Epoch: 64 Average gen loss = 18047.7, KLD = 1028.291116, total loss = 18047.744651\n",
      "Epoch: 65 Average gen loss = 18032.8, KLD = 1029.722231, total loss = 18032.845441\n",
      "Epoch: 66 Average gen loss = 18019.8, KLD = 1031.134966, total loss = 18019.808317\n",
      "Epoch: 67 Average gen loss = 17996.4, KLD = 1032.528653, total loss = 17996.400099\n",
      "Epoch: 68 Average gen loss = 17985.7, KLD = 1033.904421, total loss = 17985.681693\n",
      "Epoch: 69 Average gen loss = 17968.3, KLD = 1035.264085, total loss = 17968.326609\n",
      "Epoch: 70 Average gen loss = 17966.5, KLD = 1036.605076, total loss = 17966.491694\n",
      "Epoch: 71 Average gen loss = 17943.0, KLD = 1037.929828, total loss = 17942.965377\n",
      "Epoch: 72 Average gen loss = 17935.0, KLD = 1039.239856, total loss = 17935.034804\n",
      "Epoch: 73 Average gen loss = 17921.3, KLD = 1040.529159, total loss = 17921.275327\n",
      "Epoch: 74 Average gen loss = 17911.2, KLD = 1041.810475, total loss = 17911.200224\n",
      "Epoch: 75 Average gen loss = 17892.4, KLD = 1043.076519, total loss = 17892.415219\n",
      "Epoch: 76 Average gen loss = 17879.8, KLD = 1044.328010, total loss = 17879.843957\n",
      "Epoch: 77 Average gen loss = 17887.1, KLD = 1045.562920, total loss = 17887.079809\n",
      "Epoch: 78 Average gen loss = 17868.0, KLD = 1046.789120, total loss = 17867.966711\n",
      "Epoch: 79 Average gen loss = 17855.8, KLD = 1047.999687, total loss = 17855.810797\n",
      "Epoch: 80 Average gen loss = 17848.8, KLD = 1049.198810, total loss = 17848.784724\n",
      "Epoch: 81 Average gen loss = 17846.8, KLD = 1050.382722, total loss = 17846.844255\n",
      "Epoch: 82 Average gen loss = 17814.6, KLD = 1051.556924, total loss = 17814.644477\n",
      "Epoch: 83 Average gen loss = 17812.4, KLD = 1052.717936, total loss = 17812.431018\n",
      "Epoch: 84 Average gen loss = 17802.5, KLD = 1053.866052, total loss = 17802.487154\n",
      "Epoch: 85 Average gen loss = 17802.2, KLD = 1055.005581, total loss = 17802.191801\n",
      "Epoch: 86 Average gen loss = 17782.7, KLD = 1056.133457, total loss = 17782.717722\n",
      "Epoch: 87 Average gen loss = 17771.4, KLD = 1057.251322, total loss = 17771.384911\n",
      "Epoch: 88 Average gen loss = 17763.8, KLD = 1058.352003, total loss = 17763.789592\n",
      "Epoch: 89 Average gen loss = 17759.9, KLD = 1059.448442, total loss = 17759.877858\n",
      "Epoch: 90 Average gen loss = 17754.8, KLD = 1060.533258, total loss = 17754.774274\n",
      "Epoch: 91 Average gen loss = 17743.5, KLD = 1061.608425, total loss = 17743.532489\n",
      "Epoch: 92 Average gen loss = 17736.1, KLD = 1062.677448, total loss = 17736.134303\n",
      "Epoch: 93 Average gen loss = 17725.1, KLD = 1063.736194, total loss = 17725.112035\n",
      "Epoch: 94 Average gen loss = 17717.6, KLD = 1064.785043, total loss = 17717.599033\n",
      "Epoch: 95 Average gen loss = 17712.4, KLD = 1065.825516, total loss = 17712.449895\n",
      "Epoch: 96 Average gen loss = 17698.5, KLD = 1066.857472, total loss = 17698.495667\n",
      "Epoch: 97 Average gen loss = 17697.1, KLD = 1067.873783, total loss = 17697.129732\n",
      "Epoch: 98 Average gen loss = 17684.3, KLD = 1068.888133, total loss = 17684.264811\n",
      "Epoch: 99 Average gen loss = 17676.2, KLD = 1069.892822, total loss = 17676.221656\n",
      "Epoch: 100 Average gen loss = 17676.4, KLD = 1070.885430, total loss = 17676.429050\n",
      "Epoch: 101 Average gen loss = 17656.1, KLD = 1071.873734, total loss = 17656.070061\n",
      "Epoch: 102 Average gen loss = 17652.5, KLD = 1072.854814, total loss = 17652.492171\n",
      "Epoch: 103 Average gen loss = 17640.3, KLD = 1073.830623, total loss = 17640.318295\n",
      "Epoch: 104 Average gen loss = 17641.1, KLD = 1074.797562, total loss = 17641.085808\n",
      "Epoch: 105 Average gen loss = 17624.9, KLD = 1075.754626, total loss = 17624.926372\n",
      "Epoch: 106 Average gen loss = 17622.6, KLD = 1076.707704, total loss = 17622.646444\n",
      "Epoch: 107 Average gen loss = 17606.8, KLD = 1077.648591, total loss = 17606.783343\n",
      "Epoch: 108 Average gen loss = 17598.2, KLD = 1078.587206, total loss = 17598.158568\n",
      "Epoch: 109 Average gen loss = 17602.7, KLD = 1079.516823, total loss = 17602.672717\n",
      "Epoch: 110 Average gen loss = 17598.2, KLD = 1080.441139, total loss = 17598.176530\n",
      "Epoch: 111 Average gen loss = 17587.8, KLD = 1081.361716, total loss = 17587.829160\n",
      "Epoch: 112 Average gen loss = 17584.0, KLD = 1082.273061, total loss = 17583.966027\n",
      "Epoch: 113 Average gen loss = 17581.5, KLD = 1083.178923, total loss = 17581.523148\n",
      "Epoch: 114 Average gen loss = 17575.3, KLD = 1084.077689, total loss = 17575.285804\n",
      "Epoch: 115 Average gen loss = 17574.4, KLD = 1084.976122, total loss = 17574.436551\n",
      "Epoch: 116 Average gen loss = 17553.3, KLD = 1085.863312, total loss = 17553.329506\n",
      "Epoch: 117 Average gen loss = 17546.7, KLD = 1086.748016, total loss = 17546.705970\n",
      "Epoch: 118 Average gen loss = 17545.4, KLD = 1087.623322, total loss = 17545.368466\n",
      "Epoch: 119 Average gen loss = 17547.7, KLD = 1088.497486, total loss = 17547.700481\n",
      "Epoch: 120 Average gen loss = 17538.3, KLD = 1089.363534, total loss = 17538.251639\n",
      "Epoch: 121 Average gen loss = 17537.1, KLD = 1090.221747, total loss = 17537.104726\n",
      "Epoch: 122 Average gen loss = 17524.3, KLD = 1091.070496, total loss = 17524.259830\n",
      "Epoch: 123 Average gen loss = 17528.1, KLD = 1091.915928, total loss = 17528.149252\n",
      "Epoch: 124 Average gen loss = 17521.1, KLD = 1092.756214, total loss = 17521.094485\n",
      "Epoch: 125 Average gen loss = 17520.0, KLD = 1093.593267, total loss = 17519.970727\n",
      "Epoch: 126 Average gen loss = 17512.0, KLD = 1094.425459, total loss = 17512.007602\n",
      "Epoch: 127 Average gen loss = 17506.6, KLD = 1095.256677, total loss = 17506.646302\n",
      "Epoch: 128 Average gen loss = 17503.0, KLD = 1096.076910, total loss = 17502.973267\n",
      "Epoch: 129 Average gen loss = 17491.9, KLD = 1096.896967, total loss = 17491.931493\n",
      "Epoch: 130 Average gen loss = 17488.5, KLD = 1097.709201, total loss = 17488.517975\n",
      "Epoch: 131 Average gen loss = 17490.0, KLD = 1098.517755, total loss = 17490.017072\n",
      "Epoch: 132 Average gen loss = 17487.5, KLD = 1099.321897, total loss = 17487.481124\n",
      "Epoch: 133 Average gen loss = 17488.6, KLD = 1100.119954, total loss = 17488.590286\n",
      "Epoch: 134 Average gen loss = 17469.6, KLD = 1100.913074, total loss = 17469.598257\n",
      "Epoch: 135 Average gen loss = 17468.7, KLD = 1101.698260, total loss = 17468.663689\n",
      "Epoch: 136 Average gen loss = 17465.9, KLD = 1102.482919, total loss = 17465.902914\n",
      "Epoch: 137 Average gen loss = 17464.4, KLD = 1103.261140, total loss = 17464.401133\n",
      "Epoch: 138 Average gen loss = 17459.9, KLD = 1104.036621, total loss = 17459.896540\n",
      "Epoch: 139 Average gen loss = 17463.2, KLD = 1104.808671, total loss = 17463.215266\n",
      "Epoch: 140 Average gen loss = 17449.2, KLD = 1105.575593, total loss = 17449.237609\n",
      "Epoch: 141 Average gen loss = 17456.1, KLD = 1106.334781, total loss = 17456.143174\n",
      "Epoch: 142 Average gen loss = 17447.5, KLD = 1107.089075, total loss = 17447.451898\n",
      "Epoch: 143 Average gen loss = 17445.1, KLD = 1107.840598, total loss = 17445.080526\n",
      "Epoch: 144 Average gen loss = 17440.8, KLD = 1108.586604, total loss = 17440.757908\n",
      "Epoch: 145 Average gen loss = 17447.1, KLD = 1109.325300, total loss = 17447.142064\n",
      "Epoch: 146 Average gen loss = 17432.3, KLD = 1110.066792, total loss = 17432.293452\n",
      "Epoch: 147 Average gen loss = 17428.7, KLD = 1110.800050, total loss = 17428.749963\n",
      "Epoch: 148 Average gen loss = 17425.5, KLD = 1111.528966, total loss = 17425.521990\n",
      "Epoch: 149 Average gen loss = 17431.4, KLD = 1112.257969, total loss = 17431.368132\n",
      "Epoch: 150 Average gen loss = 17419.4, KLD = 1112.975912, total loss = 17419.363904\n",
      "Epoch: 151 Average gen loss = 17412.8, KLD = 1113.691671, total loss = 17412.777565\n",
      "Epoch: 152 Average gen loss = 17419.7, KLD = 1114.406999, total loss = 17419.653340\n",
      "Epoch: 153 Average gen loss = 17415.5, KLD = 1115.115774, total loss = 17415.492693\n",
      "Epoch: 154 Average gen loss = 17414.0, KLD = 1115.823569, total loss = 17414.036499\n",
      "Epoch: 155 Average gen loss = 17405.3, KLD = 1116.523455, total loss = 17405.285324\n",
      "Epoch: 156 Average gen loss = 17400.8, KLD = 1117.225875, total loss = 17400.831759\n",
      "Epoch: 157 Average gen loss = 17398.8, KLD = 1117.923143, total loss = 17398.814725\n",
      "Epoch: 158 Average gen loss = 17411.0, KLD = 1118.614982, total loss = 17410.987253\n",
      "Epoch: 159 Average gen loss = 17398.2, KLD = 1119.307670, total loss = 17398.208679\n",
      "Epoch: 160 Average gen loss = 17388.5, KLD = 1119.993728, total loss = 17388.457331\n",
      "Epoch: 161 Average gen loss = 17391.9, KLD = 1120.674865, total loss = 17391.860403\n",
      "Epoch: 162 Average gen loss = 17384.3, KLD = 1121.356545, total loss = 17384.309004\n",
      "Epoch: 163 Average gen loss = 17381.5, KLD = 1122.033921, total loss = 17381.492541\n",
      "Epoch: 164 Average gen loss = 17392.5, KLD = 1122.707454, total loss = 17392.533904\n",
      "Epoch: 165 Average gen loss = 17378.4, KLD = 1123.377618, total loss = 17378.437031\n",
      "Epoch: 166 Average gen loss = 17383.2, KLD = 1124.044573, total loss = 17383.187263\n",
      "Epoch: 167 Average gen loss = 17373.4, KLD = 1124.711187, total loss = 17373.419109\n",
      "Epoch: 168 Average gen loss = 17369.9, KLD = 1125.374762, total loss = 17369.910846\n",
      "Epoch: 169 Average gen loss = 17373.1, KLD = 1126.030144, total loss = 17373.132912\n",
      "Epoch: 170 Average gen loss = 17378.1, KLD = 1126.680798, total loss = 17378.144421\n",
      "Epoch: 171 Average gen loss = 17381.9, KLD = 1127.333787, total loss = 17381.908773\n",
      "Epoch: 172 Average gen loss = 17355.8, KLD = 1127.982554, total loss = 17355.849096\n",
      "Epoch: 173 Average gen loss = 17364.5, KLD = 1128.633406, total loss = 17364.523948\n",
      "Epoch: 174 Average gen loss = 17360.8, KLD = 1129.281103, total loss = 17360.799503\n",
      "Epoch: 175 Average gen loss = 17359.2, KLD = 1129.926997, total loss = 17359.175742\n",
      "Epoch: 176 Average gen loss = 17353.6, KLD = 1130.569542, total loss = 17353.645341\n",
      "Epoch: 177 Average gen loss = 17342.1, KLD = 1131.204495, total loss = 17342.088664\n",
      "Epoch: 178 Average gen loss = 17354.3, KLD = 1131.838865, total loss = 17354.281679\n",
      "Epoch: 179 Average gen loss = 17340.8, KLD = 1132.472448, total loss = 17340.838961\n",
      "Epoch: 180 Average gen loss = 17346.2, KLD = 1133.099786, total loss = 17346.171592\n",
      "Epoch: 181 Average gen loss = 17335.4, KLD = 1133.729497, total loss = 17335.357457\n",
      "Epoch: 182 Average gen loss = 17330.5, KLD = 1134.359754, total loss = 17330.482882\n",
      "Epoch: 183 Average gen loss = 17328.9, KLD = 1134.986450, total loss = 17328.870713\n",
      "Epoch: 184 Average gen loss = 17324.1, KLD = 1135.608050, total loss = 17324.127941\n",
      "Epoch: 185 Average gen loss = 17321.2, KLD = 1136.226897, total loss = 17321.229428\n",
      "Epoch: 186 Average gen loss = 17335.9, KLD = 1136.846524, total loss = 17335.877478\n",
      "Epoch: 187 Average gen loss = 17320.7, KLD = 1137.458582, total loss = 17320.680046\n",
      "Epoch: 188 Average gen loss = 17322.5, KLD = 1138.073257, total loss = 17322.533934\n",
      "Epoch: 189 Average gen loss = 17314.9, KLD = 1138.684646, total loss = 17314.892706\n",
      "Epoch: 190 Average gen loss = 17310.3, KLD = 1139.291857, total loss = 17310.264422\n",
      "Epoch: 191 Average gen loss = 17300.0, KLD = 1139.894002, total loss = 17300.033660\n",
      "Epoch: 192 Average gen loss = 17309.4, KLD = 1140.496610, total loss = 17309.405210\n",
      "Epoch: 193 Average gen loss = 17300.5, KLD = 1141.095846, total loss = 17300.461586\n",
      "Epoch: 194 Average gen loss = 17311.1, KLD = 1141.694912, total loss = 17311.097152\n",
      "Epoch: 195 Average gen loss = 17299.4, KLD = 1142.286536, total loss = 17299.434916\n",
      "Epoch: 196 Average gen loss = 17306.1, KLD = 1142.882757, total loss = 17306.061330\n",
      "Epoch: 197 Average gen loss = 17300.8, KLD = 1143.473588, total loss = 17300.801346\n",
      "Epoch: 198 Average gen loss = 17299.2, KLD = 1144.061848, total loss = 17299.170147\n",
      "Epoch: 199 Average gen loss = 17311.5, KLD = 1144.641813, total loss = 17311.521709\n",
      "Epoch: 200 Average gen loss = 17296.9, KLD = 1145.230981, total loss = 17296.891705\n",
      "Epoch: 201 Average gen loss = 17300.1, KLD = 1145.801827, total loss = 17300.060009\n",
      "Epoch: 202 Average gen loss = 17285.9, KLD = 1146.381688, total loss = 17285.858748\n",
      "Epoch: 203 Average gen loss = 17290.4, KLD = 1146.954755, total loss = 17290.371886\n",
      "Epoch: 204 Average gen loss = 17284.0, KLD = 1147.523995, total loss = 17283.954563\n",
      "Epoch: 205 Average gen loss = 17285.4, KLD = 1148.091045, total loss = 17285.398135\n",
      "Epoch: 206 Average gen loss = 17291.4, KLD = 1148.655000, total loss = 17291.436242\n",
      "Epoch: 207 Average gen loss = 17278.3, KLD = 1149.219216, total loss = 17278.293893\n",
      "Epoch: 208 Average gen loss = 17286.3, KLD = 1149.775861, total loss = 17286.302745\n",
      "Epoch: 209 Average gen loss = 17277.3, KLD = 1150.333629, total loss = 17277.288617\n",
      "Epoch: 210 Average gen loss = 17289.6, KLD = 1150.889573, total loss = 17289.634414\n",
      "Epoch: 211 Average gen loss = 17270.9, KLD = 1151.449696, total loss = 17270.878719\n",
      "Epoch: 212 Average gen loss = 17270.1, KLD = 1152.000833, total loss = 17270.054189\n",
      "Epoch: 213 Average gen loss = 17287.7, KLD = 1152.546096, total loss = 17287.658226\n",
      "Epoch: 214 Average gen loss = 17271.5, KLD = 1153.093121, total loss = 17271.454303\n",
      "Epoch: 215 Average gen loss = 17268.9, KLD = 1153.640652, total loss = 17268.896446\n",
      "Epoch: 216 Average gen loss = 17259.5, KLD = 1154.187404, total loss = 17259.522406\n",
      "Epoch: 217 Average gen loss = 17278.0, KLD = 1154.731938, total loss = 17277.978719\n",
      "Epoch: 218 Average gen loss = 17270.5, KLD = 1155.273264, total loss = 17270.520206\n",
      "Epoch: 219 Average gen loss = 17259.6, KLD = 1155.814422, total loss = 17259.595100\n",
      "Epoch: 220 Average gen loss = 17260.4, KLD = 1156.354395, total loss = 17260.419144\n",
      "Epoch: 221 Average gen loss = 17258.8, KLD = 1156.890666, total loss = 17258.805284\n",
      "Epoch: 222 Average gen loss = 17259.4, KLD = 1157.428500, total loss = 17259.389252\n",
      "Epoch: 223 Average gen loss = 17249.0, KLD = 1157.964756, total loss = 17249.045709\n",
      "Epoch: 224 Average gen loss = 17256.6, KLD = 1158.492665, total loss = 17256.589239\n",
      "Epoch: 225 Average gen loss = 17274.2, KLD = 1159.028191, total loss = 17274.237340\n",
      "Epoch: 226 Average gen loss = 17255.6, KLD = 1159.554182, total loss = 17255.597517\n",
      "Epoch: 227 Average gen loss = 17256.8, KLD = 1160.087899, total loss = 17256.805196\n",
      "Epoch: 228 Average gen loss = 17247.4, KLD = 1160.610688, total loss = 17247.375797\n",
      "Epoch: 229 Average gen loss = 17252.6, KLD = 1161.135861, total loss = 17252.646608\n",
      "Epoch: 230 Average gen loss = 17275.9, KLD = 1161.660288, total loss = 17275.857581\n",
      "Epoch: 231 Average gen loss = 17243.7, KLD = 1162.175679, total loss = 17243.721339\n",
      "Epoch: 232 Average gen loss = 17242.0, KLD = 1162.693376, total loss = 17241.954208\n",
      "Epoch: 233 Average gen loss = 17250.1, KLD = 1163.203136, total loss = 17250.053347\n",
      "Epoch: 234 Average gen loss = 17251.4, KLD = 1163.717982, total loss = 17251.393711\n",
      "Epoch: 235 Average gen loss = 17249.3, KLD = 1164.229170, total loss = 17249.256483\n",
      "Epoch: 236 Average gen loss = 17242.5, KLD = 1164.737423, total loss = 17242.510739\n",
      "Epoch: 237 Average gen loss = 17242.0, KLD = 1165.248134, total loss = 17242.015828\n",
      "Epoch: 238 Average gen loss = 17240.7, KLD = 1165.749080, total loss = 17240.749735\n",
      "Epoch: 239 Average gen loss = 17239.5, KLD = 1166.251985, total loss = 17239.451158\n",
      "Epoch: 240 Average gen loss = 17242.3, KLD = 1166.753620, total loss = 17242.281867\n",
      "Epoch: 241 Average gen loss = 17252.3, KLD = 1167.252003, total loss = 17252.319811\n",
      "Epoch: 242 Average gen loss = 17234.6, KLD = 1167.752330, total loss = 17234.613645\n",
      "Epoch: 243 Average gen loss = 17236.5, KLD = 1168.246841, total loss = 17236.458749\n",
      "Epoch: 244 Average gen loss = 17228.9, KLD = 1168.744338, total loss = 17228.896842\n",
      "Epoch: 245 Average gen loss = 17233.0, KLD = 1169.234471, total loss = 17233.019037\n",
      "Epoch: 246 Average gen loss = 17229.0, KLD = 1169.724851, total loss = 17229.014223\n",
      "Epoch: 247 Average gen loss = 17234.3, KLD = 1170.218257, total loss = 17234.342528\n",
      "Epoch: 248 Average gen loss = 17217.8, KLD = 1170.703467, total loss = 17217.797645\n",
      "Epoch: 249 Average gen loss = 17232.4, KLD = 1171.186919, total loss = 17232.362182\n",
      "Epoch: 250 Average gen loss = 17221.9, KLD = 1171.670710, total loss = 17221.939236\n",
      "Epoch: 251 Average gen loss = 17222.7, KLD = 1172.153419, total loss = 17222.687224\n",
      "Epoch: 252 Average gen loss = 17224.4, KLD = 1172.634921, total loss = 17224.369810\n",
      "Epoch: 253 Average gen loss = 17238.3, KLD = 1173.109536, total loss = 17238.250909\n",
      "Epoch: 254 Average gen loss = 17227.4, KLD = 1173.588469, total loss = 17227.426176\n",
      "Epoch: 255 Average gen loss = 17229.0, KLD = 1174.064909, total loss = 17228.950316\n",
      "Epoch: 256 Average gen loss = 17225.2, KLD = 1174.538820, total loss = 17225.210280\n",
      "Epoch: 257 Average gen loss = 17217.1, KLD = 1175.016944, total loss = 17217.130783\n",
      "Epoch: 258 Average gen loss = 17208.3, KLD = 1175.490608, total loss = 17208.263632\n",
      "Epoch: 259 Average gen loss = 17236.0, KLD = 1175.964257, total loss = 17235.999709\n",
      "Epoch: 260 Average gen loss = 17221.4, KLD = 1176.434177, total loss = 17221.390121\n",
      "Epoch: 261 Average gen loss = 17235.3, KLD = 1176.899334, total loss = 17235.265667\n",
      "Epoch: 262 Average gen loss = 17221.2, KLD = 1177.366643, total loss = 17221.191539\n",
      "Epoch: 263 Average gen loss = 17214.6, KLD = 1177.834627, total loss = 17214.582059\n",
      "Epoch: 264 Average gen loss = 17217.8, KLD = 1178.295171, total loss = 17217.841760\n",
      "Epoch: 265 Average gen loss = 17218.4, KLD = 1178.755359, total loss = 17218.428406\n",
      "Epoch: 266 Average gen loss = 17209.0, KLD = 1179.212717, total loss = 17209.023069\n",
      "Epoch: 267 Average gen loss = 17206.9, KLD = 1179.672592, total loss = 17206.871596\n",
      "Epoch: 268 Average gen loss = 17206.4, KLD = 1180.128261, total loss = 17206.372532\n",
      "Epoch: 269 Average gen loss = 17210.6, KLD = 1180.579668, total loss = 17210.553883\n",
      "Epoch: 270 Average gen loss = 17197.4, KLD = 1181.033046, total loss = 17197.363199\n",
      "Epoch: 271 Average gen loss = 17217.5, KLD = 1181.483890, total loss = 17217.457762\n",
      "Epoch: 272 Average gen loss = 17216.0, KLD = 1181.928982, total loss = 17216.024727\n",
      "Epoch: 273 Average gen loss = 17202.3, KLD = 1182.375986, total loss = 17202.285873\n",
      "Epoch: 274 Average gen loss = 17194.6, KLD = 1182.828296, total loss = 17194.645336\n",
      "Epoch: 275 Average gen loss = 17200.1, KLD = 1183.269008, total loss = 17200.101471\n",
      "Epoch: 276 Average gen loss = 17218.2, KLD = 1183.710844, total loss = 17218.154402\n",
      "Epoch: 277 Average gen loss = 17196.9, KLD = 1184.151880, total loss = 17196.881114\n",
      "Epoch: 278 Average gen loss = 17192.7, KLD = 1184.598497, total loss = 17192.703205\n",
      "Epoch: 279 Average gen loss = 17204.8, KLD = 1185.037017, total loss = 17204.847637\n",
      "Epoch: 280 Average gen loss = 17196.7, KLD = 1185.476098, total loss = 17196.706266\n",
      "Epoch: 281 Average gen loss = 17189.3, KLD = 1185.917909, total loss = 17189.323195\n",
      "Epoch: 282 Average gen loss = 17187.2, KLD = 1186.353635, total loss = 17187.196975\n",
      "Epoch: 283 Average gen loss = 17189.1, KLD = 1186.784695, total loss = 17189.111646\n",
      "Epoch: 284 Average gen loss = 17195.6, KLD = 1187.219629, total loss = 17195.612306\n",
      "Epoch: 285 Average gen loss = 17185.3, KLD = 1187.658496, total loss = 17185.311735\n",
      "Epoch: 286 Average gen loss = 17193.6, KLD = 1188.090258, total loss = 17193.632984\n",
      "Epoch: 287 Average gen loss = 17213.6, KLD = 1188.525693, total loss = 17213.589883\n",
      "Epoch: 288 Average gen loss = 17180.1, KLD = 1188.951900, total loss = 17180.056092\n",
      "Epoch: 289 Average gen loss = 17196.7, KLD = 1189.384692, total loss = 17196.667450\n",
      "Epoch: 290 Average gen loss = 17185.0, KLD = 1189.815428, total loss = 17185.003131\n",
      "Epoch: 291 Average gen loss = 17187.6, KLD = 1190.239779, total loss = 17187.647957\n",
      "Epoch: 292 Average gen loss = 17182.6, KLD = 1190.668207, total loss = 17182.630379\n",
      "Epoch: 293 Average gen loss = 17184.6, KLD = 1191.096825, total loss = 17184.568892\n",
      "Epoch: 294 Average gen loss = 17182.8, KLD = 1191.519984, total loss = 17182.839817\n",
      "Epoch: 295 Average gen loss = 17183.7, KLD = 1191.944957, total loss = 17183.701317\n",
      "Epoch: 296 Average gen loss = 17174.7, KLD = 1192.369413, total loss = 17174.716289\n",
      "Epoch: 297 Average gen loss = 17189.8, KLD = 1192.784770, total loss = 17189.781971\n",
      "Epoch: 298 Average gen loss = 17174.9, KLD = 1193.202761, total loss = 17174.948030\n",
      "Epoch: 299 Average gen loss = 17174.3, KLD = 1193.625175, total loss = 17174.321870\n",
      "Epoch: 300 Average gen loss = 17187.9, KLD = 1194.037391, total loss = 17187.922697\n",
      "Epoch: 301 Average gen loss = 17183.1, KLD = 1194.458610, total loss = 17183.094504\n",
      "Epoch: 302 Average gen loss = 17179.4, KLD = 1194.873004, total loss = 17179.402187\n",
      "Epoch: 303 Average gen loss = 17171.0, KLD = 1195.288033, total loss = 17171.024596\n",
      "Epoch: 304 Average gen loss = 17175.0, KLD = 1195.694045, total loss = 17174.965413\n",
      "Epoch: 305 Average gen loss = 17177.9, KLD = 1196.109443, total loss = 17177.935260\n",
      "Epoch: 306 Average gen loss = 17169.2, KLD = 1196.521895, total loss = 17169.226124\n",
      "Epoch: 307 Average gen loss = 17172.4, KLD = 1196.931755, total loss = 17172.354051\n",
      "Epoch: 308 Average gen loss = 17177.1, KLD = 1197.345301, total loss = 17177.127945\n",
      "Epoch: 309 Average gen loss = 17163.7, KLD = 1197.752345, total loss = 17163.716075\n",
      "Epoch: 310 Average gen loss = 17165.5, KLD = 1198.155807, total loss = 17165.488794\n",
      "Epoch: 311 Average gen loss = 17176.9, KLD = 1198.556105, total loss = 17176.912760\n",
      "Epoch: 312 Average gen loss = 17168.8, KLD = 1198.959950, total loss = 17168.831301\n",
      "Epoch: 313 Average gen loss = 17159.0, KLD = 1199.363088, total loss = 17159.004299\n",
      "Epoch: 314 Average gen loss = 17173.4, KLD = 1199.762472, total loss = 17173.391137\n",
      "Epoch: 315 Average gen loss = 17163.8, KLD = 1200.162983, total loss = 17163.798017\n",
      "Epoch: 316 Average gen loss = 17167.2, KLD = 1200.561713, total loss = 17167.180171\n",
      "Epoch: 317 Average gen loss = 17160.3, KLD = 1200.962021, total loss = 17160.317091\n",
      "Epoch: 318 Average gen loss = 17162.1, KLD = 1201.355328, total loss = 17162.122974\n",
      "Epoch: 319 Average gen loss = 17148.0, KLD = 1201.751166, total loss = 17147.998017\n",
      "Epoch: 320 Average gen loss = 17178.4, KLD = 1202.146161, total loss = 17178.417886\n",
      "Epoch: 321 Average gen loss = 17161.1, KLD = 1202.541179, total loss = 17161.144614\n",
      "Epoch: 322 Average gen loss = 17161.0, KLD = 1202.932012, total loss = 17160.990831\n",
      "Epoch: 323 Average gen loss = 17167.7, KLD = 1203.325594, total loss = 17167.744787\n",
      "Epoch: 324 Average gen loss = 17153.7, KLD = 1203.717023, total loss = 17153.726037\n",
      "Epoch: 325 Average gen loss = 17167.4, KLD = 1204.103189, total loss = 17167.413496\n",
      "Epoch: 326 Average gen loss = 17169.7, KLD = 1204.493296, total loss = 17169.691143\n",
      "Epoch: 327 Average gen loss = 17161.4, KLD = 1204.882548, total loss = 17161.395890\n",
      "Epoch: 328 Average gen loss = 17166.8, KLD = 1205.269330, total loss = 17166.768792\n",
      "Epoch: 329 Average gen loss = 17158.6, KLD = 1205.662111, total loss = 17158.574937\n",
      "Epoch: 330 Average gen loss = 17170.9, KLD = 1206.040880, total loss = 17170.908415\n",
      "Epoch: 331 Average gen loss = 17151.1, KLD = 1206.429680, total loss = 17151.056729\n",
      "Epoch: 332 Average gen loss = 17141.9, KLD = 1206.807888, total loss = 17141.874125\n",
      "Epoch: 333 Average gen loss = 17169.6, KLD = 1207.194683, total loss = 17169.647556\n",
      "Epoch: 334 Average gen loss = 17149.1, KLD = 1207.572363, total loss = 17149.135386\n",
      "Epoch: 335 Average gen loss = 17170.4, KLD = 1207.954453, total loss = 17170.429859\n",
      "Epoch: 336 Average gen loss = 17153.5, KLD = 1208.333259, total loss = 17153.507865\n",
      "Epoch: 337 Average gen loss = 17150.0, KLD = 1208.712644, total loss = 17150.047633\n",
      "Epoch: 338 Average gen loss = 17149.1, KLD = 1209.093242, total loss = 17149.093362\n",
      "Epoch: 339 Average gen loss = 17173.7, KLD = 1209.468020, total loss = 17173.650957\n",
      "Epoch: 340 Average gen loss = 17156.6, KLD = 1209.842331, total loss = 17156.588762\n",
      "Epoch: 341 Average gen loss = 17152.4, KLD = 1210.215621, total loss = 17152.366389\n",
      "Epoch: 342 Average gen loss = 17152.5, KLD = 1210.590167, total loss = 17152.501251\n",
      "Epoch: 343 Average gen loss = 17137.2, KLD = 1210.962486, total loss = 17137.230605\n",
      "Epoch: 344 Average gen loss = 17156.0, KLD = 1211.332741, total loss = 17156.003376\n",
      "Epoch: 345 Average gen loss = 17136.6, KLD = 1211.708164, total loss = 17136.635027\n",
      "Epoch: 346 Average gen loss = 17146.1, KLD = 1212.077106, total loss = 17146.095449\n",
      "Epoch: 347 Average gen loss = 17158.8, KLD = 1212.445994, total loss = 17158.820118\n",
      "Epoch: 348 Average gen loss = 17151.8, KLD = 1212.816724, total loss = 17151.814272\n",
      "Epoch: 349 Average gen loss = 17135.2, KLD = 1213.176825, total loss = 17135.219560\n",
      "Epoch: 350 Average gen loss = 17153.9, KLD = 1213.540770, total loss = 17153.885277\n",
      "Epoch: 351 Average gen loss = 17137.8, KLD = 1213.909835, total loss = 17137.800381\n",
      "Epoch: 352 Average gen loss = 17139.4, KLD = 1214.273143, total loss = 17139.436967\n",
      "Epoch: 353 Average gen loss = 17142.7, KLD = 1214.634258, total loss = 17142.682133\n",
      "Epoch: 354 Average gen loss = 17137.6, KLD = 1214.993564, total loss = 17137.553067\n",
      "Epoch: 355 Average gen loss = 17129.8, KLD = 1215.360534, total loss = 17129.799544\n",
      "Epoch: 356 Average gen loss = 17136.1, KLD = 1215.717477, total loss = 17136.071332\n",
      "Epoch: 357 Average gen loss = 17138.4, KLD = 1216.079083, total loss = 17138.367731\n",
      "Epoch: 358 Average gen loss = 17140.7, KLD = 1216.437769, total loss = 17140.657416\n",
      "Epoch: 359 Average gen loss = 17133.2, KLD = 1216.796627, total loss = 17133.236979\n",
      "Epoch: 360 Average gen loss = 17129.1, KLD = 1217.150437, total loss = 17129.092623\n",
      "Epoch: 361 Average gen loss = 17128.6, KLD = 1217.509056, total loss = 17128.562583\n",
      "Epoch: 362 Average gen loss = 17131.2, KLD = 1217.866557, total loss = 17131.243061\n",
      "Epoch: 363 Average gen loss = 17138.9, KLD = 1218.219866, total loss = 17138.933706\n",
      "Epoch: 364 Average gen loss = 17135.2, KLD = 1218.577209, total loss = 17135.202325\n",
      "Epoch: 365 Average gen loss = 17119.3, KLD = 1218.930956, total loss = 17119.320900\n",
      "Epoch: 366 Average gen loss = 17125.3, KLD = 1219.281966, total loss = 17125.332776\n",
      "Epoch: 367 Average gen loss = 17179.6, KLD = 1219.635262, total loss = 17179.646175\n",
      "Epoch: 368 Average gen loss = 17127.1, KLD = 1219.987752, total loss = 17127.135597\n",
      "Epoch: 369 Average gen loss = 17136.3, KLD = 1220.333901, total loss = 17136.295422\n",
      "Epoch: 370 Average gen loss = 17145.2, KLD = 1220.690398, total loss = 17145.214311\n",
      "Epoch: 371 Average gen loss = 17128.2, KLD = 1221.042429, total loss = 17128.218045\n",
      "Epoch: 372 Average gen loss = 17121.7, KLD = 1221.389357, total loss = 17121.675733\n",
      "Epoch: 373 Average gen loss = 17119.5, KLD = 1221.737906, total loss = 17119.475782\n",
      "Epoch: 374 Average gen loss = 17132.2, KLD = 1222.082850, total loss = 17132.194856\n",
      "Epoch: 375 Average gen loss = 17140.7, KLD = 1222.430303, total loss = 17140.717147\n",
      "Epoch: 376 Average gen loss = 17116.1, KLD = 1222.772899, total loss = 17116.132206\n",
      "Epoch: 377 Average gen loss = 17134.5, KLD = 1223.122068, total loss = 17134.539713\n",
      "Epoch: 378 Average gen loss = 17123.2, KLD = 1223.462612, total loss = 17123.232314\n",
      "Epoch: 379 Average gen loss = 17126.1, KLD = 1223.804204, total loss = 17126.120342\n",
      "Epoch: 380 Average gen loss = 17126.5, KLD = 1224.148976, total loss = 17126.534297\n",
      "Epoch: 381 Average gen loss = 17120.4, KLD = 1224.486520, total loss = 17120.368227\n",
      "Epoch: 382 Average gen loss = 17128.9, KLD = 1224.828674, total loss = 17128.889094\n",
      "Epoch: 383 Average gen loss = 17130.2, KLD = 1225.171549, total loss = 17130.170650\n",
      "Epoch: 384 Average gen loss = 17124.5, KLD = 1225.505428, total loss = 17124.530668\n",
      "Epoch: 385 Average gen loss = 17134.6, KLD = 1225.842686, total loss = 17134.649556\n",
      "Epoch: 386 Average gen loss = 17108.8, KLD = 1226.176975, total loss = 17108.849653\n",
      "Epoch: 387 Average gen loss = 17117.6, KLD = 1226.514159, total loss = 17117.602517\n",
      "Epoch: 388 Average gen loss = 17125.5, KLD = 1226.851293, total loss = 17125.508234\n",
      "Epoch: 389 Average gen loss = 17131.9, KLD = 1227.181065, total loss = 17131.879627\n",
      "Epoch: 390 Average gen loss = 17120.1, KLD = 1227.518845, total loss = 17120.083368\n",
      "Epoch: 391 Average gen loss = 17119.8, KLD = 1227.845669, total loss = 17119.793779\n",
      "Epoch: 392 Average gen loss = 17114.7, KLD = 1228.182685, total loss = 17114.666810\n",
      "Epoch: 393 Average gen loss = 17131.8, KLD = 1228.511148, total loss = 17131.779684\n",
      "Epoch: 394 Average gen loss = 17111.5, KLD = 1228.845082, total loss = 17111.536594\n",
      "Epoch: 395 Average gen loss = 17127.1, KLD = 1229.172309, total loss = 17127.078270\n",
      "Epoch: 396 Average gen loss = 17114.7, KLD = 1229.495298, total loss = 17114.729045\n",
      "Epoch: 397 Average gen loss = 17116.9, KLD = 1229.822134, total loss = 17116.862305\n",
      "Epoch: 398 Average gen loss = 17131.6, KLD = 1230.156772, total loss = 17131.558402\n",
      "Epoch: 399 Average gen loss = 17126.4, KLD = 1230.486571, total loss = 17126.376438\n",
      "Epoch: 400 Average gen loss = 17106.8, KLD = 1230.812174, total loss = 17106.771509\n",
      "Epoch: 401 Average gen loss = 17114.4, KLD = 1231.136351, total loss = 17114.429334\n",
      "Epoch: 402 Average gen loss = 17119.0, KLD = 1231.464950, total loss = 17118.997244\n",
      "Epoch: 403 Average gen loss = 17120.3, KLD = 1231.787626, total loss = 17120.317148\n",
      "Epoch: 404 Average gen loss = 17116.2, KLD = 1232.112284, total loss = 17116.219760\n",
      "Epoch: 405 Average gen loss = 17112.0, KLD = 1232.431599, total loss = 17112.048877\n",
      "Epoch: 406 Average gen loss = 17110.9, KLD = 1232.752681, total loss = 17110.948721\n",
      "Epoch: 407 Average gen loss = 17106.2, KLD = 1233.075135, total loss = 17106.234677\n",
      "Epoch: 408 Average gen loss = 17117.4, KLD = 1233.400343, total loss = 17117.421239\n",
      "Epoch: 409 Average gen loss = 17114.6, KLD = 1233.719494, total loss = 17114.579045\n",
      "Epoch: 410 Average gen loss = 17100.6, KLD = 1234.042159, total loss = 17100.620535\n",
      "Epoch: 411 Average gen loss = 17110.2, KLD = 1234.363590, total loss = 17110.162901\n",
      "Epoch: 412 Average gen loss = 17131.8, KLD = 1234.681317, total loss = 17131.790179\n",
      "Epoch: 413 Average gen loss = 17105.7, KLD = 1234.998501, total loss = 17105.698929\n",
      "Epoch: 414 Average gen loss = 17089.0, KLD = 1235.311822, total loss = 17088.962059\n",
      "Epoch: 415 Average gen loss = 17246.8, KLD = 1235.629899, total loss = 17246.810945\n",
      "Epoch: 416 Average gen loss = 17149.9, KLD = 1235.950229, total loss = 17149.910570\n",
      "Epoch: 417 Average gen loss = 17135.5, KLD = 1236.266439, total loss = 17135.506317\n",
      "Epoch: 418 Average gen loss = 17127.1, KLD = 1236.586543, total loss = 17127.076636\n",
      "Epoch: 419 Average gen loss = 17097.7, KLD = 1236.896890, total loss = 17097.729600\n",
      "Epoch: 420 Average gen loss = 17106.7, KLD = 1237.213961, total loss = 17106.724056\n",
      "Epoch: 421 Average gen loss = 17118.2, KLD = 1237.526993, total loss = 17118.245008\n",
      "Epoch: 422 Average gen loss = 17143.9, KLD = 1237.842933, total loss = 17143.895029\n",
      "Epoch: 423 Average gen loss = 17120.4, KLD = 1238.155317, total loss = 17120.393779\n",
      "Epoch: 424 Average gen loss = 17116.7, KLD = 1238.465302, total loss = 17116.732511\n",
      "Epoch: 425 Average gen loss = 17108.7, KLD = 1238.775639, total loss = 17108.695732\n",
      "Epoch: 426 Average gen loss = 17117.3, KLD = 1239.086728, total loss = 17117.295856\n",
      "Epoch: 427 Average gen loss = 17108.1, KLD = 1239.395183, total loss = 17108.051157\n",
      "Epoch: 428 Average gen loss = 17106.8, KLD = 1239.709640, total loss = 17106.793066\n",
      "Epoch: 429 Average gen loss = 17109.1, KLD = 1240.023856, total loss = 17109.116872\n",
      "Epoch: 430 Average gen loss = 17103.0, KLD = 1240.332597, total loss = 17102.970585\n",
      "Epoch: 431 Average gen loss = 17104.9, KLD = 1240.641241, total loss = 17104.914168\n",
      "Epoch: 432 Average gen loss = 17107.0, KLD = 1240.946225, total loss = 17107.038390\n",
      "Epoch: 433 Average gen loss = 17111.1, KLD = 1241.252406, total loss = 17111.128896\n",
      "Epoch: 434 Average gen loss = 17117.7, KLD = 1241.558608, total loss = 17117.673961\n",
      "Epoch: 435 Average gen loss = 17102.0, KLD = 1241.865442, total loss = 17102.013352\n",
      "Epoch: 436 Average gen loss = 17096.4, KLD = 1242.168633, total loss = 17096.434047\n",
      "Epoch: 437 Average gen loss = 17088.6, KLD = 1242.471843, total loss = 17088.553939\n",
      "Epoch: 438 Average gen loss = 17112.3, KLD = 1242.779452, total loss = 17112.315702\n",
      "Epoch: 439 Average gen loss = 17104.3, KLD = 1243.080676, total loss = 17104.341160\n",
      "Epoch: 440 Average gen loss = 17105.5, KLD = 1243.385854, total loss = 17105.504681\n",
      "Epoch: 441 Average gen loss = 17094.1, KLD = 1243.684376, total loss = 17094.058585\n",
      "Epoch: 442 Average gen loss = 17101.9, KLD = 1243.987624, total loss = 17101.858048\n",
      "Epoch: 443 Average gen loss = 17107.3, KLD = 1244.290904, total loss = 17107.294515\n",
      "Epoch: 444 Average gen loss = 17103.6, KLD = 1244.592664, total loss = 17103.563534\n",
      "Epoch: 445 Average gen loss = 17092.3, KLD = 1244.895213, total loss = 17092.302141\n",
      "Epoch: 446 Average gen loss = 17110.6, KLD = 1245.189671, total loss = 17110.566544\n",
      "Epoch: 447 Average gen loss = 17089.0, KLD = 1245.489546, total loss = 17089.040681\n",
      "Epoch: 448 Average gen loss = 17086.5, KLD = 1245.790522, total loss = 17086.540321\n",
      "Epoch: 449 Average gen loss = 17100.6, KLD = 1246.093643, total loss = 17100.555471\n",
      "Epoch: 450 Average gen loss = 17101.9, KLD = 1246.392233, total loss = 17101.949150\n",
      "Epoch: 451 Average gen loss = 17093.6, KLD = 1246.687602, total loss = 17093.620687\n",
      "Epoch: 452 Average gen loss = 17113.2, KLD = 1246.983803, total loss = 17113.161899\n",
      "Epoch: 453 Average gen loss = 17090.4, KLD = 1247.288955, total loss = 17090.438145\n",
      "Epoch: 454 Average gen loss = 17111.7, KLD = 1247.585532, total loss = 17111.679766\n",
      "Epoch: 455 Average gen loss = 17089.7, KLD = 1247.885066, total loss = 17089.700947\n",
      "Epoch: 456 Average gen loss = 17091.0, KLD = 1248.180571, total loss = 17090.975684\n",
      "Epoch: 457 Average gen loss = 17093.7, KLD = 1248.476652, total loss = 17093.740172\n",
      "Epoch: 458 Average gen loss = 17092.5, KLD = 1248.773862, total loss = 17092.478318\n",
      "Epoch: 459 Average gen loss = 17124.9, KLD = 1249.066655, total loss = 17124.906746\n",
      "Epoch: 460 Average gen loss = 17091.0, KLD = 1249.365809, total loss = 17091.027648\n",
      "Epoch: 461 Average gen loss = 17095.5, KLD = 1249.655409, total loss = 17095.545524\n",
      "Epoch: 462 Average gen loss = 17091.0, KLD = 1249.945127, total loss = 17090.983050\n",
      "Epoch: 463 Average gen loss = 17096.2, KLD = 1250.238352, total loss = 17096.234621\n",
      "Epoch: 464 Average gen loss = 17103.5, KLD = 1250.528805, total loss = 17103.510719\n",
      "Epoch: 465 Average gen loss = 17085.2, KLD = 1250.818103, total loss = 17085.202697\n",
      "Epoch: 466 Average gen loss = 17089.2, KLD = 1251.112508, total loss = 17089.167245\n",
      "Epoch: 467 Average gen loss = 17089.7, KLD = 1251.401128, total loss = 17089.731069\n",
      "Epoch: 468 Average gen loss = 17074.8, KLD = 1251.698505, total loss = 17074.817966\n",
      "Epoch: 469 Average gen loss = 17076.8, KLD = 1251.986039, total loss = 17076.791964\n",
      "Epoch: 470 Average gen loss = 17080.0, KLD = 1252.277065, total loss = 17079.962921\n",
      "Epoch: 471 Average gen loss = 17086.4, KLD = 1252.566670, total loss = 17086.366469\n",
      "Epoch: 472 Average gen loss = 17078.2, KLD = 1252.853839, total loss = 17078.176433\n",
      "Epoch: 473 Average gen loss = 17082.5, KLD = 1253.143326, total loss = 17082.486348\n",
      "Epoch: 474 Average gen loss = 17088.7, KLD = 1253.429402, total loss = 17088.678091\n",
      "Epoch: 475 Average gen loss = 17078.6, KLD = 1253.714197, total loss = 17078.614278\n",
      "Epoch: 476 Average gen loss = 17072.7, KLD = 1254.001565, total loss = 17072.735330\n",
      "Epoch: 477 Average gen loss = 17089.6, KLD = 1254.281851, total loss = 17089.579491\n",
      "Epoch: 478 Average gen loss = 17085.0, KLD = 1254.575227, total loss = 17085.041908\n",
      "Epoch: 479 Average gen loss = 17071.2, KLD = 1254.856215, total loss = 17071.239441\n",
      "Epoch: 480 Average gen loss = 17074.6, KLD = 1255.138018, total loss = 17074.632232\n",
      "Epoch: 481 Average gen loss = 17101.4, KLD = 1255.422218, total loss = 17101.421275\n",
      "Epoch: 482 Average gen loss = 17077.7, KLD = 1255.705880, total loss = 17077.738519\n",
      "Epoch: 483 Average gen loss = 17102.8, KLD = 1255.993301, total loss = 17102.788734\n",
      "Epoch: 484 Average gen loss = 17078.4, KLD = 1256.269163, total loss = 17078.438958\n",
      "Epoch: 485 Average gen loss = 17077.1, KLD = 1256.556490, total loss = 17077.054436\n",
      "Epoch: 486 Average gen loss = 17077.5, KLD = 1256.835255, total loss = 17077.463589\n",
      "Epoch: 487 Average gen loss = 17080.6, KLD = 1257.120086, total loss = 17080.593596\n",
      "Epoch: 488 Average gen loss = 17080.9, KLD = 1257.396411, total loss = 17080.949442\n",
      "Epoch: 489 Average gen loss = 17075.6, KLD = 1257.673653, total loss = 17075.602895\n",
      "Epoch: 490 Average gen loss = 17069.1, KLD = 1257.951056, total loss = 17069.068639\n",
      "Epoch: 491 Average gen loss = 17065.5, KLD = 1258.234630, total loss = 17065.457446\n",
      "Epoch: 492 Average gen loss = 17085.8, KLD = 1258.505855, total loss = 17085.799995\n",
      "Epoch: 493 Average gen loss = 17071.4, KLD = 1258.788312, total loss = 17071.359179\n",
      "Epoch: 494 Average gen loss = 17085.7, KLD = 1259.059027, total loss = 17085.653158\n",
      "Epoch: 495 Average gen loss = 17075.8, KLD = 1259.339239, total loss = 17075.785591\n",
      "Epoch: 496 Average gen loss = 17082.9, KLD = 1259.613523, total loss = 17082.942230\n",
      "Epoch: 497 Average gen loss = 17091.4, KLD = 1259.886723, total loss = 17091.446465\n",
      "Epoch: 498 Average gen loss = 17072.6, KLD = 1260.160976, total loss = 17072.590287\n",
      "Epoch: 499 Average gen loss = 17076.1, KLD = 1260.435497, total loss = 17076.088008\n",
      "Epoch: 500 Average gen loss = 17077.4, KLD = 1260.702724, total loss = 17077.351235\n"
     ]
    }
   ],
   "source": [
    "#model = VAE(zdim, out_dim, hdim):\n",
    "model = VAE(zdim, 28*28, 256)\n",
    "optim = torch.optim.Adam(model.parameters(), lr=learning_rate)\n",
    "model.to(device)\n",
    "\n",
    "Nimg = len(train_dataset)\n",
    "num_epochs = 500\n",
    "beta = 0\n",
    "\n",
    "gen_loss_lst = []\n",
    "kld_loss_lst = []\n",
    "loss_lst = []\n",
    "for epoch in range(num_epochs):\n",
    "    \"\"\"\n",
    "    #############################\n",
    "    print('Previous Value')\n",
    "    print(first_value)\n",
    "    new_value = ztracker.get_zval(torch.tensor([0]).to(device))[0].cpu().detach().numpy()\n",
    "    print('Change in Value')\n",
    "    print(new_value - first_value)\n",
    "    print('New Value')\n",
    "    print(new_value)\n",
    "    first_value = new_value\n",
    "    ##############################\n",
    "    \"\"\"\n",
    "    gen_loss_accum = 0\n",
    "    kld_accum = 0\n",
    "    loss_accum = 0\n",
    "\n",
    "    for minibatch in train_loader:\n",
    "        ind = minibatch[-1].to(device)\n",
    "        y = minibatch[0].to(device)\n",
    "        B = len(ind)\n",
    "        \n",
    "        zmu, zvar = ztracker.get_zval(ind)\n",
    "\n",
    "        loss, gen_loss, kld = train_batch(model, y, zmu, zvar, optim, z_optimizer, beta)\n",
    "\n",
    "        gen_loss_accum += gen_loss * B\n",
    "        kld_accum += kld * B\n",
    "        loss_accum += loss * B\n",
    "\n",
    "    gen_loss_lst.append(gen_loss_accum / Nimg)\n",
    "    kld_loss_lst.append(kld_accum / Nimg)\n",
    "    loss_lst.append(loss_accum / Nimg)\n",
    "\n",
    "    print('Epoch: {} Average gen loss = {:.6}, KLD = {:.6f}, total loss = {:.6f}'.format(epoch+1, gen_loss_accum/Nimg, kld_accum/Nimg, loss_accum/Nimg))\n",
    "    if epoch % 10 == 0:\n",
    "        out_z = '{}/z_vals.{}.pkl'.format(out_dir, epoch)\n",
    "        ztracker.save(out_z)"
   ]
  },
  {
   "cell_type": "code",
   "execution_count": 11,
   "metadata": {
    "colab": {
     "base_uri": "https://localhost:8080/",
     "height": 183
    },
    "id": "_3R0OmxtjqHb",
    "outputId": "1dc5586c-7721-42b9-8c29-c2db421d495a"
   },
   "outputs": [
    {
     "data": {
      "image/png": "[encoded data removed]",
      "text/plain": [
       "<Figure size 432x288 with 1 Axes>"
      ]
     },
     "metadata": {
      "needs_background": "light"
     },
     "output_type": "display_data"
    }
   ],
   "source": [
    "plt.plot(loss_lst)\n",
    "plt.show()"
   ]
  },
  {
   "cell_type": "code",
   "execution_count": 12,
   "metadata": {
    "id": "XAih1V_OkdKr"
   },
   "outputs": [],
   "source": [
    "output_zmu = ztracker.zmu_embed.weight.data.cpu().numpy()\n",
    "colors = [tup[1] for tup in train_dataset]"
   ]
  },
  {
   "cell_type": "code",
   "execution_count": 13,
   "metadata": {
    "id": "iHbUFsThlNgo"
   },
   "outputs": [
    {
     "data": {
      "image/png": "[encoded data removed]",
      "text/plain": [
       "<Figure size 432x288 with 2 Axes>"
      ]
     },
     "metadata": {
      "needs_background": "light"
     },
     "output_type": "display_data"
    }
   ],
   "source": [
    "plt.scatter(output_zmu[:, 0], output_zmu[:, 1], c=colors, cmap='Paired', alpha=0.3, s=2)\n",
    "plt.colorbar()\n",
    "plt.show()"
   ]
  },
  {
   "cell_type": "code",
   "execution_count": 14,
   "metadata": {
    "id": "MgEApJpsosyF"
   },
   "outputs": [],
   "source": [
    "from sklearn.decomposition import PCA\n",
    "pca = PCA(2)\n",
    "pc = pca.fit_transform(output_zmu)"
   ]
  },
  {
   "cell_type": "code",
   "execution_count": 15,
   "metadata": {},
   "outputs": [
    {
     "data": {
      "image/png": "[encoded data removed]",
      "text/plain": [
       "<Figure size 432x288 with 2 Axes>"
      ]
     },
     "metadata": {
      "needs_background": "light"
     },
     "output_type": "display_data"
    }
   ],
   "source": [
    "plt.scatter(pc[:, 0], pc[:, 1], c=colors, cmap='Paired', alpha=0.3, s=2)\n",
    "plt.colorbar()\n",
    "plt.show()"
   ]
  },
  {
   "cell_type": "code",
   "execution_count": 20,
   "metadata": {},
   "outputs": [
    {
     "name": "stdout",
     "output_type": "stream",
     "text": [
      "tensor([[0., 0., 0.,  ..., 0., 0., 0.],\n",
      "        [0., 0., 0.,  ..., 0., 0., 0.],\n",
      "        [0., 0., 0.,  ..., 0., 0., 0.],\n",
      "        ...,\n",
      "        [0., 0., 0.,  ..., 0., 0., 0.],\n",
      "        [0., 0., 0.,  ..., 0., 0., 0.],\n",
      "        [0., 0., 0.,  ..., 0., 0., 0.]])\n"
     ]
    }
   ],
   "source": [
    "for i in train_loader:\n",
    "    print(i[0])\n",
    "    break"
   ]
  },
  {
   "cell_type": "code",
   "execution_count": null,
   "metadata": {},
   "outputs": [],
   "source": []
  }
 ],
 "metadata": {
  "accelerator": "GPU",
  "colab": {
   "collapsed_sections": [],
   "name": "haiku_vae.ipynb",
   "provenance": []
  },
  "kernelspec": {
   "display_name": "Python 3 (ipykernel)",
   "language": "python",
   "name": "python3"
  },
  "language_info": {
   "codemirror_mode": {
    "name": "ipython",
    "version": 3
   },
   "file_extension": ".py",
   "mimetype": "text/x-python",
   "name": "python",
   "nbconvert_exporter": "python",
   "pygments_lexer": "ipython3",
   "version": "3.7.11"
  }
 },
 "nbformat": 4,
 "nbformat_minor": 4
}
